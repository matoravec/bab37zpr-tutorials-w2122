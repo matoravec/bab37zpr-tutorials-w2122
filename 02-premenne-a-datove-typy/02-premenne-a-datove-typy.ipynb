{
 "cells": [
  {
   "cell_type": "markdown",
   "metadata": {},
   "source": [
    "# 02: Premenné a dátové typy"
   ]
  },
  {
   "cell_type": "code",
   "execution_count": 6,
   "metadata": {},
   "outputs": [],
   "source": [
    "from auxiliary import integer_input"
   ]
  },
  {
   "cell_type": "markdown",
   "metadata": {},
   "source": [
    "## Motivačná úloha\n",
    "\n",
    "Poďme napísať program, ktorý sčíta 2 celé čísla."
   ]
  },
  {
   "cell_type": "code",
   "execution_count": 7,
   "metadata": {},
   "outputs": [
    {
     "data": {
      "text/plain": [
       "6"
      ]
     },
     "execution_count": 7,
     "metadata": {},
     "output_type": "execute_result"
    }
   ],
   "source": [
    "1 + 5"
   ]
  },
  {
   "cell_type": "markdown",
   "metadata": {},
   "source": [
    "Ok, toto funguje, ale skúsme dať užívateľovi možnosť ovplyvniť, ktoré čísla budú sčítané."
   ]
  },
  {
   "cell_type": "code",
   "execution_count": 8,
   "metadata": {},
   "outputs": [
    {
     "name": "stdin",
     "output_type": "stream",
     "text": [
      "Zadaj prvé číslo: 4\n",
      "Zadaj druhé číslo: 5\n"
     ]
    },
    {
     "data": {
      "text/plain": [
       "9"
      ]
     },
     "execution_count": 8,
     "metadata": {},
     "output_type": "execute_result"
    }
   ],
   "source": [
    "integer_input('Zadaj prvé číslo:') + integer_input('Zadaj druhé číslo:')"
   ]
  },
  {
   "cell_type": "markdown",
   "metadata": {},
   "source": [
    "O niečo použiteľnejšie. Čo ak ale užívateľ bude chcieť použiť výsledok pri ďalšom výpočte?"
   ]
  },
  {
   "cell_type": "code",
   "execution_count": 9,
   "metadata": {},
   "outputs": [
    {
     "name": "stdin",
     "output_type": "stream",
     "text": [
      "Zadaj tretie číslo: 7\n"
     ]
    },
    {
     "data": {
      "text/plain": [
       "16"
      ]
     },
     "execution_count": 9,
     "metadata": {},
     "output_type": "execute_result"
    }
   ],
   "source": [
    "_ + integer_input('Zadaj tretie číslo:')"
   ]
  },
  {
   "cell_type": "markdown",
   "metadata": {},
   "source": [
    "Takýto program je však veľmi neprehľadný. Rovnako ako pri riešení matematických úloh je aj tu komfortnejšie pracovať s *premennými*. Program písať *všeobecne* a hodnoty premenných dosadiť až na záver."
   ]
  },
  {
   "cell_type": "code",
   "execution_count": 10,
   "metadata": {},
   "outputs": [
    {
     "name": "stdin",
     "output_type": "stream",
     "text": [
      "Zadaj prvé číslo: 1\n",
      "Zadaj druhé číslo: 2\n"
     ]
    },
    {
     "name": "stdout",
     "output_type": "stream",
     "text": [
      "Súčet je  3\n"
     ]
    }
   ],
   "source": [
    "first_number = integer_input('Zadaj prvé číslo:')\n",
    "second_number = integer_input('Zadaj druhé číslo:')\n",
    "\n",
    "print('Súčet je', first_number + second_number)"
   ]
  },
  {
   "cell_type": "markdown",
   "metadata": {},
   "source": [
    "...alebo ešte prehľadnejšie:"
   ]
  },
  {
   "cell_type": "code",
   "execution_count": 13,
   "metadata": {},
   "outputs": [
    {
     "name": "stdin",
     "output_type": "stream",
     "text": [
      "Zadaj prvé číslo: 1\n",
      "Zadaj druhé číslo: 2\n"
     ]
    },
    {
     "name": "stdout",
     "output_type": "stream",
     "text": [
      "Súčet je 3\n"
     ]
    }
   ],
   "source": [
    "first_number = integer_input('Zadaj prvé číslo:')\n",
    "second_number = integer_input('Zadaj druhé číslo:')\n",
    "sum_ = first_number + second_number\n",
    "\n",
    "print('Súčet je', sum_)"
   ]
  },
  {
   "cell_type": "markdown",
   "metadata": {},
   "source": [
    "Takýto program má množstvo výhod:\n",
    "\n",
    "* Ktokoľvek, kto ho číta, pochopí, čo robí.\n",
    "* Kedykoľvek sa vieme vrátiť k sčítancom a výsledkom a použiť ich."
   ]
  },
  {
   "cell_type": "code",
   "execution_count": 16,
   "metadata": {},
   "outputs": [
    {
     "name": "stdin",
     "output_type": "stream",
     "text": [
      "Zadaj ďalšie číslo: 7\n"
     ]
    },
    {
     "name": "stdout",
     "output_type": "stream",
     "text": [
      "Súčet je 13 a je to súčet sčítancov 1, 2 a 7.\n"
     ]
    }
   ],
   "source": [
    "third_number = integer_input('Zadaj ďalšie číslo:')\n",
    "sum_ = sum_ + third_number\n",
    "\n",
    "print('Súčet je ',  sum_, ' a je to súčet sčítancov ', first_number, ', ', second_number, ' a ', third_number, '.', sep='')"
   ]
  },
  {
   "cell_type": "markdown",
   "metadata": {},
   "source": [
    "## Premenné \n",
    "\n",
    "Názov premennej v Pythone je reťazec, pozostávajúci z \n",
    "\n",
    "* Veľkých a malých písmen (možnosť použiť aj diakritiku!)\n",
    "* Číslic\n",
    "* Znakov `_`.\n",
    "\n",
    "Ďalšou podmienkou je, že názvy premenných nemôžu číslicou *začínať*.\n",
    "\n",
    "Python rozlišuje veľké a malé písmená (je tzv. *case-sensitive*)."
   ]
  },
  {
   "cell_type": "code",
   "execution_count": 23,
   "metadata": {},
   "outputs": [],
   "source": [
    "v = 1\n",
    "var = 2\n",
    "var2 = 3\n",
    "var_2 = 3\n",
    "_ = 4\n",
    "_____________________var = 5"
   ]
  },
  {
   "cell_type": "code",
   "execution_count": 24,
   "metadata": {},
   "outputs": [
    {
     "ename": "SyntaxError",
     "evalue": "invalid syntax (<ipython-input-24-085491876c22>, line 1)",
     "output_type": "error",
     "traceback": [
      "\u001b[0;36m  File \u001b[0;32m\"<ipython-input-24-085491876c22>\"\u001b[0;36m, line \u001b[0;32m1\u001b[0m\n\u001b[0;31m    2var = 5\u001b[0m\n\u001b[0m       ^\u001b[0m\n\u001b[0;31mSyntaxError\u001b[0m\u001b[0;31m:\u001b[0m invalid syntax\n"
     ]
    }
   ],
   "source": [
    "2var = 5"
   ]
  },
  {
   "cell_type": "markdown",
   "metadata": {},
   "source": [
    "Premenná ukazuje na *objekt* (o objektoch neskôr). Na jeden objekt môže ukazovať viacero premenných. Objekt premennej priraďujeme pomocou *operátoru priradenia* `=`. Povolené je i priradiť jeden objekt viacerým premenným:"
   ]
  },
  {
   "cell_type": "code",
   "execution_count": 27,
   "metadata": {},
   "outputs": [],
   "source": [
    "a = b = c = d = e = 42"
   ]
  },
  {
   "cell_type": "code",
   "execution_count": 28,
   "metadata": {},
   "outputs": [
    {
     "data": {
      "text/plain": [
       "42"
      ]
     },
     "execution_count": 28,
     "metadata": {},
     "output_type": "execute_result"
    }
   ],
   "source": [
    "a"
   ]
  },
  {
   "cell_type": "code",
   "execution_count": 29,
   "metadata": {},
   "outputs": [
    {
     "data": {
      "text/plain": [
       "42"
      ]
     },
     "execution_count": 29,
     "metadata": {},
     "output_type": "execute_result"
    }
   ],
   "source": [
    "c"
   ]
  },
  {
   "cell_type": "code",
   "execution_count": 30,
   "metadata": {},
   "outputs": [
    {
     "data": {
      "text/plain": [
       "42"
      ]
     },
     "execution_count": 30,
     "metadata": {},
     "output_type": "execute_result"
    }
   ],
   "source": [
    "e"
   ]
  },
  {
   "cell_type": "code",
   "execution_count": 31,
   "metadata": {},
   "outputs": [
    {
     "ename": "NameError",
     "evalue": "name 'f' is not defined",
     "output_type": "error",
     "traceback": [
      "\u001b[0;31m---------------------------------------------------------------------------\u001b[0m",
      "\u001b[0;31mNameError\u001b[0m                                 Traceback (most recent call last)",
      "\u001b[0;32m<ipython-input-31-a9fcd54b25e7>\u001b[0m in \u001b[0;36m<module>\u001b[0;34m\u001b[0m\n\u001b[0;32m----> 1\u001b[0;31m \u001b[0mf\u001b[0m\u001b[0;34m\u001b[0m\u001b[0;34m\u001b[0m\u001b[0m\n\u001b[0m",
      "\u001b[0;31mNameError\u001b[0m: name 'f' is not defined"
     ]
    }
   ],
   "source": [
    "f"
   ]
  },
  {
   "cell_type": "markdown",
   "metadata": {},
   "source": [
    "## Dátové typy\n",
    "\n",
    "Každý objekt má priradený *typ*. Typ objektu zistíme pomocou funkcie `type`:"
   ]
  },
  {
   "cell_type": "code",
   "execution_count": 25,
   "metadata": {},
   "outputs": [
    {
     "data": {
      "text/plain": [
       "int"
      ]
     },
     "execution_count": 25,
     "metadata": {},
     "output_type": "execute_result"
    }
   ],
   "source": [
    "type(5)"
   ]
  },
  {
   "cell_type": "code",
   "execution_count": 26,
   "metadata": {},
   "outputs": [
    {
     "data": {
      "text/plain": [
       "str"
      ]
     },
     "execution_count": 26,
     "metadata": {},
     "output_type": "execute_result"
    }
   ],
   "source": [
    "type('foo')"
   ]
  },
  {
   "cell_type": "markdown",
   "metadata": {},
   "source": [
    "Premenná má taký typ, ako objekt, ktorý jej je priradený."
   ]
  },
  {
   "cell_type": "code",
   "execution_count": 34,
   "metadata": {},
   "outputs": [
    {
     "data": {
      "text/plain": [
       "int"
      ]
     },
     "execution_count": 34,
     "metadata": {},
     "output_type": "execute_result"
    }
   ],
   "source": [
    "a = 5\n",
    "\n",
    "type(a)"
   ]
  },
  {
   "cell_type": "markdown",
   "metadata": {},
   "source": [
    "> **Cvičenie 1:** Ako zistiť, či je objekt `'foo'` dátového typu `str`? "
   ]
  },
  {
   "cell_type": "code",
   "execution_count": 37,
   "metadata": {},
   "outputs": [
    {
     "name": "stdout",
     "output_type": "stream",
     "text": [
      "True\n"
     ]
    },
    {
     "data": {
      "text/plain": [
       "bool"
      ]
     },
     "execution_count": 37,
     "metadata": {},
     "output_type": "execute_result"
    }
   ],
   "source": [
    "is_str = isinstance('foo', str)\n",
    "\n",
    "print(is_str)\n",
    "type(is_str)"
   ]
  },
  {
   "cell_type": "markdown",
   "metadata": {},
   "source": [
    "Objekty niektorých typov sú *modifikovateľné* a niektoré nie:"
   ]
  },
  {
   "cell_type": "code",
   "execution_count": 38,
   "metadata": {},
   "outputs": [
    {
     "data": {
      "text/plain": [
       "[5, 2, 3]"
      ]
     },
     "execution_count": 38,
     "metadata": {},
     "output_type": "execute_result"
    }
   ],
   "source": [
    "a = [1, 2, 3]\n",
    "\n",
    "a[0] = 5\n",
    "\n",
    "a"
   ]
  },
  {
   "cell_type": "code",
   "execution_count": 39,
   "metadata": {},
   "outputs": [
    {
     "ename": "TypeError",
     "evalue": "'tuple' object does not support item assignment",
     "output_type": "error",
     "traceback": [
      "\u001b[0;31m---------------------------------------------------------------------------\u001b[0m",
      "\u001b[0;31mTypeError\u001b[0m                                 Traceback (most recent call last)",
      "\u001b[0;32m<ipython-input-39-5c68e325abb3>\u001b[0m in \u001b[0;36m<module>\u001b[0;34m\u001b[0m\n\u001b[1;32m      1\u001b[0m \u001b[0ma\u001b[0m \u001b[0;34m=\u001b[0m \u001b[0;34m(\u001b[0m\u001b[0;36m1\u001b[0m\u001b[0;34m,\u001b[0m \u001b[0;36m2\u001b[0m\u001b[0;34m,\u001b[0m \u001b[0;36m3\u001b[0m\u001b[0;34m)\u001b[0m\u001b[0;34m\u001b[0m\u001b[0;34m\u001b[0m\u001b[0m\n\u001b[1;32m      2\u001b[0m \u001b[0;34m\u001b[0m\u001b[0m\n\u001b[0;32m----> 3\u001b[0;31m \u001b[0ma\u001b[0m\u001b[0;34m[\u001b[0m\u001b[0;36m0\u001b[0m\u001b[0;34m]\u001b[0m \u001b[0;34m=\u001b[0m \u001b[0;36m5\u001b[0m\u001b[0;34m\u001b[0m\u001b[0;34m\u001b[0m\u001b[0m\n\u001b[0m",
      "\u001b[0;31mTypeError\u001b[0m: 'tuple' object does not support item assignment"
     ]
    }
   ],
   "source": [
    "a = (1, 2, 3)\n",
    "\n",
    "a[0] = 5"
   ]
  },
  {
   "cell_type": "markdown",
   "metadata": {},
   "source": [
    "...a aké typy objektov teda v Pythone existujú? Vo všeobecnosti je správna odpoveď niečo ako \"všetky možné,\" pretože užívateľ si môže napísať vlastný objekt, ktorý so sebou nesie aj informáciu o dátovom type:"
   ]
  },
  {
   "cell_type": "code",
   "execution_count": 42,
   "metadata": {},
   "outputs": [
    {
     "data": {
      "text/plain": [
       "__main__.Dummy"
      ]
     },
     "execution_count": 42,
     "metadata": {},
     "output_type": "execute_result"
    }
   ],
   "source": [
    "class Dummy:\n",
    "    pass\n",
    "\n",
    "d = Dummy()\n",
    "\n",
    "type(d)"
   ]
  },
  {
   "cell_type": "markdown",
   "metadata": {},
   "source": [
    "Tých, ktoré sú tzv. *základné* alebo *zložené* (zahrnuté v základnej inštalácii Pythonu) je obmedzený počet. Na začiatok postačí týchto pár:\n",
    "\n",
    "Základné:\n",
    "\n",
    "* `int`: Celé číslo (integer)\n",
    "* `float`: Desatinné číslo\n",
    "* `str`: Textový reťazec (string)\n",
    "* `bool`: Binárna logická hodnota\n",
    "* `complex`: Komplexné číslo\n",
    "* `bytes`: Binárna hodnota (nereprezentovaná)\n",
    "\n",
    "Zložené:\n",
    "\n",
    "* `list`: Zoznam\n",
    "* `tuple`: N-tica\n",
    "* `range`: Rovnomerná postupnosť\n",
    "* `set`, `frozenset`: Množina\n",
    "* `str`: Textový reťazec (string)\n",
    "* `dict`: Slovník\n",
    "* `bytearray`: Pole binárnych hodnôt\n",
    "* `memoryview`: Binárny obraz pamäte"
   ]
  },
  {
   "cell_type": "markdown",
   "metadata": {},
   "source": [
    "## Aritmetika\n",
    "\n",
    "Objekty jednotlivých typov (i premenné, do ktorých sú priradené) je možné ukladať ako argumenty aritmetických a logických operácií. Pokiaľ do operácie vstupujú objekty navzájom rôznych dátových typov, Python sa snaží automaticky pretypovať objekty na \"najuniverzálnejší\" zo zúčastnených typov. Napríklad ak chceme sčítať 1 (typ `int`) a 2.345 (typ `float`), Python najprv pretypuje 1 na 1.0, potom sčíta 1.0 + 2.345 a vráti výsledok 3.345 typu `float`."
   ]
  },
  {
   "cell_type": "code",
   "execution_count": 43,
   "metadata": {},
   "outputs": [
    {
     "name": "stdout",
     "output_type": "stream",
     "text": [
      "<class 'int'>\n",
      "<class 'float'>\n",
      "<class 'float'>\n"
     ]
    }
   ],
   "source": [
    "print(type(1))\n",
    "print(type(2.345))\n",
    "print(type(1 + 2.345))"
   ]
  },
  {
   "cell_type": "markdown",
   "metadata": {},
   "source": [
    "Aritmetické a logické operácie: `+`, `-`, `*`, `/`, `//`, `**`, `^`, `&`, `|`.\n",
    "\n",
    "Niektoré operácie nie sú pre niektoré typy povolené."
   ]
  },
  {
   "cell_type": "code",
   "execution_count": 48,
   "metadata": {},
   "outputs": [
    {
     "name": "stdout",
     "output_type": "stream",
     "text": [
      "3\n",
      "1.0\n",
      "helloworld!\n"
     ]
    }
   ],
   "source": [
    "print(1 + 2)\n",
    "print(1. / 1)\n",
    "print('hello' + 'world!')"
   ]
  },
  {
   "cell_type": "code",
   "execution_count": 49,
   "metadata": {},
   "outputs": [
    {
     "ename": "TypeError",
     "evalue": "unsupported operand type(s) for /: 'str' and 'str'",
     "output_type": "error",
     "traceback": [
      "\u001b[0;31m---------------------------------------------------------------------------\u001b[0m",
      "\u001b[0;31mTypeError\u001b[0m                                 Traceback (most recent call last)",
      "\u001b[0;32m<ipython-input-49-e6518d3d6bf7>\u001b[0m in \u001b[0;36m<module>\u001b[0;34m\u001b[0m\n\u001b[0;32m----> 1\u001b[0;31m \u001b[0mprint\u001b[0m\u001b[0;34m(\u001b[0m\u001b[0;34m'hello'\u001b[0m \u001b[0;34m/\u001b[0m \u001b[0;34m'world!'\u001b[0m\u001b[0;34m)\u001b[0m\u001b[0;34m\u001b[0m\u001b[0;34m\u001b[0m\u001b[0m\n\u001b[0m",
      "\u001b[0;31mTypeError\u001b[0m: unsupported operand type(s) for /: 'str' and 'str'"
     ]
    }
   ],
   "source": [
    "print('hello' / 'world!')"
   ]
  },
  {
   "cell_type": "markdown",
   "metadata": {},
   "source": [
    "## Zabudované zložené dátové typy"
   ]
  },
  {
   "cell_type": "code",
   "execution_count": 51,
   "metadata": {},
   "outputs": [],
   "source": [
    "# ..."
   ]
  }
 ],
 "metadata": {
  "kernelspec": {
   "display_name": "Python 3",
   "language": "python",
   "name": "python3"
  },
  "language_info": {
   "codemirror_mode": {
    "name": "ipython",
    "version": 3
   },
   "file_extension": ".py",
   "mimetype": "text/x-python",
   "name": "python",
   "nbconvert_exporter": "python",
   "pygments_lexer": "ipython3",
   "version": "3.7.5"
  }
 },
 "nbformat": 4,
 "nbformat_minor": 4
}

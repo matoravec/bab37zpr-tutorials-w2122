{
 "cells": [
  {
   "cell_type": "markdown",
   "metadata": {},
   "source": [
    "# 02: Premenné a dátové typy"
   ]
  },
  {
   "cell_type": "code",
   "execution_count": null,
   "metadata": {},
   "outputs": [],
   "source": [
    "from auxiliary import integer_input"
   ]
  },
  {
   "cell_type": "markdown",
   "metadata": {},
   "source": [
    "## Motivačná úloha\n",
    "\n",
    "Poďme napísať program, ktorý sčíta 2 celé čísla."
   ]
  },
  {
   "cell_type": "code",
   "execution_count": null,
   "metadata": {},
   "outputs": [],
   "source": []
  },
  {
   "cell_type": "markdown",
   "metadata": {},
   "source": [
    "Ok, toto funguje, ale skúsme dať užívateľovi možnosť ovplyvniť, ktoré čísla budú sčítané."
   ]
  },
  {
   "cell_type": "code",
   "execution_count": null,
   "metadata": {},
   "outputs": [],
   "source": []
  },
  {
   "cell_type": "markdown",
   "metadata": {},
   "source": [
    "O niečo použiteľnejšie. Čo ak ale užívateľ bude chcieť použiť výsledok pri ďalšom výpočte?"
   ]
  },
  {
   "cell_type": "code",
   "execution_count": null,
   "metadata": {},
   "outputs": [],
   "source": []
  },
  {
   "cell_type": "markdown",
   "metadata": {},
   "source": [
    "Takýto program je však veľmi neprehľadný. Rovnako ako pri riešení matematických úloh je aj tu komfortnejšie pracovať s *premennými*. Program písať *všeobecne* a hodnoty premenných dosadiť až na záver."
   ]
  },
  {
   "cell_type": "code",
   "execution_count": null,
   "metadata": {},
   "outputs": [],
   "source": []
  },
  {
   "cell_type": "markdown",
   "metadata": {},
   "source": [
    "...alebo ešte prehľadnejšie:"
   ]
  },
  {
   "cell_type": "code",
   "execution_count": null,
   "metadata": {},
   "outputs": [],
   "source": []
  },
  {
   "cell_type": "markdown",
   "metadata": {},
   "source": [
    "Takýto program má množstvo výhod:\n",
    "\n",
    "* Ktokoľvek, kto ho číta, pochopí, čo robí.\n",
    "* Kedykoľvek sa vieme vrátiť k sčítancom a výsledkom a použiť ich."
   ]
  },
  {
   "cell_type": "code",
   "execution_count": null,
   "metadata": {},
   "outputs": [],
   "source": []
  },
  {
   "cell_type": "markdown",
   "metadata": {},
   "source": [
    "## Premenné \n",
    "\n",
    "Názov premennej v Pythone je reťazec, pozostávajúci z \n",
    "\n",
    "* Veľkých a malých písmen (možnosť použiť aj diakritiku!)\n",
    "* Číslic\n",
    "* Znakov `_`.\n",
    "\n",
    "Ďalšou podmienkou je, že názvy premenných nemôžu číslicou *začínať*.\n",
    "\n",
    "Python rozlišuje veľké a malé písmená (je tzv. *case-sensitive*)."
   ]
  },
  {
   "cell_type": "code",
   "execution_count": null,
   "metadata": {},
   "outputs": [],
   "source": []
  },
  {
   "cell_type": "code",
   "execution_count": null,
   "metadata": {},
   "outputs": [],
   "source": []
  },
  {
   "cell_type": "markdown",
   "metadata": {},
   "source": [
    "Premenná ukazuje na *objekt* (o objektoch neskôr). Na jeden objekt môže ukazovať viacero premenných. Objekt premennej priraďujeme pomocou *operátoru priradenia* `=`. Povolené je i priradiť jeden objekt viacerým premenným:"
   ]
  },
  {
   "cell_type": "code",
   "execution_count": null,
   "metadata": {},
   "outputs": [],
   "source": []
  },
  {
   "cell_type": "code",
   "execution_count": null,
   "metadata": {},
   "outputs": [],
   "source": []
  },
  {
   "cell_type": "code",
   "execution_count": null,
   "metadata": {},
   "outputs": [],
   "source": []
  },
  {
   "cell_type": "code",
   "execution_count": null,
   "metadata": {},
   "outputs": [],
   "source": []
  },
  {
   "cell_type": "code",
   "execution_count": null,
   "metadata": {},
   "outputs": [],
   "source": []
  },
  {
   "cell_type": "markdown",
   "metadata": {},
   "source": [
    "## Dátové typy\n",
    "\n",
    "Každý objekt má priradený *typ*. Typ objektu zistíme pomocou funkcie `type`:"
   ]
  },
  {
   "cell_type": "code",
   "execution_count": null,
   "metadata": {},
   "outputs": [],
   "source": []
  },
  {
   "cell_type": "code",
   "execution_count": null,
   "metadata": {},
   "outputs": [],
   "source": []
  },
  {
   "cell_type": "markdown",
   "metadata": {},
   "source": [
    "Premenná má taký typ, ako objekt, ktorý jej je priradený."
   ]
  },
  {
   "cell_type": "code",
   "execution_count": null,
   "metadata": {},
   "outputs": [],
   "source": []
  },
  {
   "cell_type": "markdown",
   "metadata": {},
   "source": [
    "> **Cvičenie 1:** Ako zistiť, či je objekt `'foo'` dátového typu `str`? "
   ]
  },
  {
   "cell_type": "code",
   "execution_count": null,
   "metadata": {},
   "outputs": [],
   "source": []
  },
  {
   "cell_type": "markdown",
   "metadata": {},
   "source": [
    "Objekty niektorých typov sú *modifikovateľné* a niektoré nie:"
   ]
  },
  {
   "cell_type": "code",
   "execution_count": null,
   "metadata": {},
   "outputs": [],
   "source": []
  },
  {
   "cell_type": "code",
   "execution_count": null,
   "metadata": {},
   "outputs": [],
   "source": []
  },
  {
   "cell_type": "markdown",
   "metadata": {},
   "source": [
    "...a aké typy objektov teda v Pythone existujú? Vo všeobecnosti je správna odpoveď niečo ako \"všetky možné,\" pretože užívateľ si môže napísať vlastný objekt, ktorý so sebou nesie aj informáciu o dátovom type:"
   ]
  },
  {
   "cell_type": "code",
   "execution_count": null,
   "metadata": {},
   "outputs": [],
   "source": []
  },
  {
   "cell_type": "markdown",
   "metadata": {},
   "source": [
    "Tých, ktoré sú tzv. *základné* alebo *zložené* (zahrnuté v základnej inštalácii Pythonu) je obmedzený počet. Na začiatok postačí týchto pár:\n",
    "\n",
    "Základné:\n",
    "\n",
    "* `int`: Celé číslo (integer)\n",
    "* `float`: Desatinné číslo\n",
    "* `str`: Textový reťazec (string)\n",
    "* `bool`: Binárna logická hodnota\n",
    "* `complex`: Komplexné číslo\n",
    "* `bytes`: Binárna hodnota (nereprezentovaná)\n",
    "\n",
    "Zložené:\n",
    "\n",
    "* `list`: Zoznam\n",
    "* `tuple`: N-tica\n",
    "* `range`: Rovnomerná postupnosť\n",
    "* `set`, `frozenset`: Množina\n",
    "* `str`: Textový reťazec (string)\n",
    "* `dict`: Slovník\n",
    "* `bytearray`: Pole binárnych hodnôt\n",
    "* `memoryview`: Binárny obraz pamäte"
   ]
  },
  {
   "cell_type": "markdown",
   "metadata": {},
   "source": [
    "## Aritmetika\n",
    "\n",
    "Objekty jednotlivých typov (i premenné, do ktorých sú priradené) je možné ukladať ako argumenty aritmetických a logických operácií. Pokiaľ do operácie vstupujú objekty navzájom rôznych dátových typov, Python sa snaží automaticky pretypovať objekty na \"najuniverzálnejší\" zo zúčastnených typov. Napríklad ak chceme sčítať 1 (typ `int`) a 2.345 (typ `float`), Python najprv pretypuje 1 na 1.0, potom sčíta 1.0 + 2.345 a vráti výsledok 3.345 typu `float`."
   ]
  },
  {
   "cell_type": "code",
   "execution_count": null,
   "metadata": {},
   "outputs": [],
   "source": []
  },
  {
   "cell_type": "markdown",
   "metadata": {},
   "source": [
    "Aritmetické a logické operácie: `+`, `-`, `*`, `/`, `//`, `**`, `^`, `&`, `|`.\n",
    "\n",
    "Niektoré operácie nie sú pre niektoré typy povolené."
   ]
  },
  {
   "cell_type": "code",
   "execution_count": null,
   "metadata": {},
   "outputs": [],
   "source": []
  },
  {
   "cell_type": "code",
   "execution_count": null,
   "metadata": {},
   "outputs": [],
   "source": []
  },
  {
   "cell_type": "markdown",
   "metadata": {},
   "source": [
    "## Zabudované zložené dátové typy"
   ]
  },
  {
   "cell_type": "code",
   "execution_count": null,
   "metadata": {},
   "outputs": [],
   "source": [
    "# ..."
   ]
  }
 ],
 "metadata": {
  "kernelspec": {
   "display_name": "Python 3",
   "language": "python",
   "name": "python3"
  },
  "language_info": {
   "codemirror_mode": {
    "name": "ipython",
    "version": 3
   },
   "file_extension": ".py",
   "mimetype": "text/x-python",
   "name": "python",
   "nbconvert_exporter": "python",
   "pygments_lexer": "ipython3",
   "version": "3.7.5"
  }
 },
 "nbformat": 4,
 "nbformat_minor": 4
}

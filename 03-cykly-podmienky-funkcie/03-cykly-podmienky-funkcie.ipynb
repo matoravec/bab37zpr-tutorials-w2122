{
 "cells": [
  {
   "cell_type": "markdown",
   "metadata": {},
   "source": [
    "# 03: Cykly, podmienky, funkcie\n",
    "\n",
    "Na dnešnom cvičení si predstavíme nástroje, ktoré nám umožnia písať *kratší*, *zrozumiteľnejší* a v toho dôsledku *krajší* kód. Začneme podmienkou, pokračovať budeme rôznymi zápismi cyklu a na záver si ukážeme, ako vytvárať a používať funkcie."
   ]
  },
  {
   "cell_type": "code",
   "execution_count": null,
   "metadata": {},
   "outputs": [],
   "source": [
    "import random\n",
    "import math\n",
    "import numpy as np"
   ]
  },
  {
   "cell_type": "markdown",
   "metadata": {},
   "source": [
    "## 03.1: Podmienky\n",
    "\n",
    "### Podmienka *if*\n",
    "\n",
    "```python\n",
    "if logický_výraz:\n",
    "    <príkaz>\n",
    "    <príkaz>\n",
    "    ...\n",
    "    <príkaz>\n",
    "```\n",
    "\n",
    "**Príklad:** Výpis, či je v premennej `a` uložené celé číslo"
   ]
  },
  {
   "cell_type": "code",
   "execution_count": null,
   "metadata": {
    "tags": []
   },
   "outputs": [],
   "source": [
    "a = 'b'\n",
    "\n",
    "if isinstance(a, int):\n",
    "    print('Áno, a je celé číslo.')"
   ]
  },
  {
   "cell_type": "markdown",
   "metadata": {},
   "source": [
    "### Podmienka *if* $-$ *else*\n",
    "\n",
    "```python\n",
    "if logický_výraz:\n",
    "    <príkaz>\n",
    "    <príkaz>\n",
    "    ...\n",
    "    <príkaz>\n",
    "else:\n",
    "    <príkaz>\n",
    "    <príkaz>\n",
    "    ...\n",
    "    <príkaz>\n",
    "```\n",
    "\n",
    "#### Príklad: Porovnanie dvoch celých čísel"
   ]
  },
  {
   "cell_type": "code",
   "execution_count": null,
   "metadata": {},
   "outputs": [],
   "source": [
    "a = 5\n",
    "b = 7\n",
    "\n",
    "if a > b:\n",
    "    print('a > b')\n",
    "else:\n",
    "    print('a <= b')"
   ]
  },
  {
   "cell_type": "markdown",
   "metadata": {},
   "source": [
    "### Podmienka *if* $-$ *elif* $-$ *else*\n",
    "\n",
    "```python\n",
    "if logický_výraz:\n",
    "    <príkaz>\n",
    "    <príkaz>\n",
    "    ...\n",
    "    <príkaz>\n",
    "elif logický_výraz:\n",
    "    <príkaz>\n",
    "    <príkaz>\n",
    "    ...\n",
    "    <príkaz>\n",
    "...\n",
    "else:\n",
    "    <príkaz>\n",
    "    <príkaz>\n",
    "    ...\n",
    "    <príkaz>\n",
    "```\n",
    "\n",
    "#### Príklad: Porovnanie dvoch celých čísel"
   ]
  },
  {
   "cell_type": "code",
   "execution_count": null,
   "metadata": {},
   "outputs": [],
   "source": [
    "a = 5\n",
    "b = 7\n",
    "\n",
    "if a > b:\n",
    "    print('a > b')\n",
    "elif a == b:\n",
    "    print('a = b')\n",
    "else:\n",
    "    print('a < b')"
   ]
  },
  {
   "cell_type": "markdown",
   "metadata": {},
   "source": [
    "> **Úloha 1**: (2 min)\n",
    "> - Máme k dispozícii program, ktorý si od užívateľa vypýta celé čislo. Dopíšte do neho výpis reťazca `'Even'` v prípade, že ide o párne (sudé) číslo a výpis reťazca `'Odd'` v prípade, že ide o nepárne (liché) číslo."
   ]
  },
  {
   "cell_type": "code",
   "execution_count": null,
   "metadata": {},
   "outputs": [],
   "source": [
    "n = int(input('Enter an integer: '))\n",
    "\n",
    "print('Odd' if n % 2 else 'Even')\n",
    "\n",
    "##################\n",
    "# Your code here #\n",
    "##################"
   ]
  },
  {
   "cell_type": "markdown",
   "metadata": {},
   "source": [
    "---\n",
    "## 03.2: Cykly\n",
    "\n",
    "- Opakovanie podprogramu viackrát\n",
    "\n",
    "### Cyklus *for*\n",
    "\n",
    "- Pre vopred známy počet opakovaní\n",
    "\n",
    "```python\n",
    "for <premenná> in <iterovateľný_objekt>:\n",
    "    <príkaz>\n",
    "    <príkaz>\n",
    "    ...\n",
    "    <príkaz>\n",
    "```\n",
    "\n",
    "#### Príklad: Výpis 7 trpaslíkov"
   ]
  },
  {
   "cell_type": "code",
   "execution_count": null,
   "metadata": {},
   "outputs": [],
   "source": [
    "for i in range(7):\n",
    "    print('trpaslík ' + str(i + 1))"
   ]
  },
  {
   "cell_type": "markdown",
   "metadata": {
    "tags": []
   },
   "source": [
    "### Cyklus *while*\n",
    "\n",
    "- Typicky pre vopred neznámy alebo nekonečný počet opakovaní\n",
    "\n",
    "```python\n",
    "while <logický_výraz_vyhodnocovaný_v_každom_cykle>:\n",
    "    <príkaz>\n",
    "    <príkaz>\n",
    "    ...\n",
    "    <príkaz>\n",
    "```\n",
    "\n",
    "- Možnosť vystúpiť z cyklu: príkaz `break`.\n",
    "\n",
    "#### Príklad: Počítanie hrušiek medzi jablkami"
   ]
  },
  {
   "cell_type": "code",
   "execution_count": null,
   "metadata": {},
   "outputs": [],
   "source": [
    "box = random.choices(population=['apple', 'pear'], weights=[.95, .05], k=100)\n",
    "print([fruit for fruit in box])"
   ]
  },
  {
   "cell_type": "code",
   "execution_count": null,
   "metadata": {},
   "outputs": [],
   "source": [
    "i = 0\n",
    "n = 0\n",
    "while i < len(box):\n",
    "    if box[i] == 'pear':\n",
    "        n += 1\n",
    "    i += 1\n",
    "        \n",
    "print('There are {} pears in the box of apples.'.format(n))"
   ]
  },
  {
   "cell_type": "markdown",
   "metadata": {},
   "source": [
    "## Zopár klasických úloh\n",
    "\n",
    "-----------------\n",
    "\n",
    "1. Vypíšte čísla od 1 do 10 s využitím cyklu `for`"
   ]
  },
  {
   "cell_type": "code",
   "execution_count": null,
   "metadata": {},
   "outputs": [],
   "source": [
    "for i in range(10):\n",
    "    print(i + 1)"
   ]
  },
  {
   "cell_type": "markdown",
   "metadata": {},
   "source": [
    "2. Vypíšte čísla od 1 do 10 s využitím cyklu `while`"
   ]
  },
  {
   "cell_type": "code",
   "execution_count": null,
   "metadata": {},
   "outputs": [],
   "source": [
    "i = 1\n",
    "while i <= 10:\n",
    "    print(i)\n",
    "    i += 1"
   ]
  },
  {
   "cell_type": "markdown",
   "metadata": {},
   "source": [
    "3. Vypíšte všetky párne čísla od 1 do $n$, kde $n$ zadá užívateľ"
   ]
  },
  {
   "cell_type": "code",
   "execution_count": null,
   "metadata": {},
   "outputs": [],
   "source": [
    "n = int(input('Zadaj n: '))\n",
    "even = []\n",
    "\n",
    "for i in range(1, n + 1):\n",
    "    if not i % 2:\n",
    "        even.append(i)\n",
    "\n",
    "print(even)"
   ]
  },
  {
   "cell_type": "markdown",
   "metadata": {},
   "source": [
    "4. Vypíšte súčin všetkých čísel z predchádzajúceho kroku"
   ]
  },
  {
   "cell_type": "code",
   "execution_count": null,
   "metadata": {},
   "outputs": [],
   "source": [
    "if len(even) < 1:\n",
    "    print('There are no numbers in the list.')\n",
    "else:\n",
    "    product = 1\n",
    "    for number in even:\n",
    "        product *= number\n",
    "    print(product)"
   ]
  },
  {
   "cell_type": "markdown",
   "metadata": {},
   "source": [
    "5. Vypíšte rad $n$ čísel v tvare $1, -1, 1, -1, \\ldots$"
   ]
  },
  {
   "cell_type": "code",
   "execution_count": null,
   "metadata": {},
   "outputs": [],
   "source": [
    "n = 100\n",
    "series = ''\n",
    "for i in range(n - 1):\n",
    "    series += str((-1)**i) + ','\n",
    "series += str((-1)**(n - 1))\n",
    "    \n",
    "print(series)"
   ]
  },
  {
   "cell_type": "markdown",
   "metadata": {},
   "source": [
    "6. Napíšte program, ktorý umožní výpočet Ludolfovho čísla ako súčtu Leibnizovho radu $$\\pi=4\\sum^{\\infty}_{k=0}\\frac{(-1)^k}{2k+1}$$"
   ]
  },
  {
   "cell_type": "code",
   "execution_count": null,
   "metadata": {},
   "outputs": [],
   "source": [
    "infinity = int(1e2)\n",
    "pi = 0\n",
    "\n",
    "for k in range(infinity):\n",
    "    pi += 4 * (-1)**k / (2 * k + 1)\n",
    "    \n",
    "print('pi: ' + str(pi))"
   ]
  },
  {
   "cell_type": "markdown",
   "metadata": {},
   "source": [
    "## Funkcie\n",
    "\n",
    "------------\n",
    "\n",
    "<img src=\"funkcia.png\" width=\"600\"/>\n",
    "\n",
    "- **Opakované použitie** časti kódu\n",
    "\n",
    "```python\n",
    "def <názov_funkcie>(<parametre_funkcie>):\n",
    "    <príkaz>\n",
    "    <príkaz>\n",
    "    ...\n",
    "    <príkaz>\n",
    "    \n",
    "    return <výstup>\n",
    "```\n",
    "#### Príklad: Funkcia na výpočet obsahu trojuholníka z dĺžky jeho strán"
   ]
  },
  {
   "cell_type": "code",
   "execution_count": null,
   "metadata": {},
   "outputs": [],
   "source": [
    "def heron(a, b, c):\n",
    "    s = (a + b + c) / 2\n",
    "    A = math.sqrt(s * (s-a) * (s-b) * (s-c))\n",
    "    \n",
    "    return A"
   ]
  },
  {
   "cell_type": "code",
   "execution_count": null,
   "metadata": {},
   "outputs": [],
   "source": [
    "print(heron(3,4,5))"
   ]
  },
  {
   "cell_type": "markdown",
   "metadata": {},
   "source": [
    "### Default hodnoty parametrov\n",
    "\n",
    "- Priradenie default hodnoty pri definícii funkcie\n",
    "- Možnosť volať funkciu **bez explicitného zadania hodnôt parametrov**"
   ]
  },
  {
   "cell_type": "code",
   "execution_count": null,
   "metadata": {},
   "outputs": [],
   "source": [
    "def f(a=5):\n",
    "    print(a**2)\n",
    "    \n",
    "a = f()\n",
    "b = f(9)\n",
    "\n",
    "type(a)"
   ]
  },
  {
   "cell_type": "markdown",
   "metadata": {},
   "source": [
    "- Vytvorenie „nadštandardnej funkcionality“"
   ]
  },
  {
   "cell_type": "code",
   "execution_count": null,
   "metadata": {},
   "outputs": [],
   "source": [
    "def hypotenuse(cathetus1, cathetus2, sqrt_fun=math.sqrt):\n",
    "    return sqrt_fun(cathetus1**2 + cathetus2**2)\n",
    "\n",
    "print(hypotenuse(3, 4))\n",
    "\n",
    "print(hypotenuse(3, 4, np.sqrt))"
   ]
  },
  {
   "cell_type": "markdown",
   "metadata": {},
   "source": [
    "### Malé terminologické okienko\n",
    "\n",
    "- **Parameter** je *premenná*, s ktorou pracuje *definícia* funkcie\n",
    "- **Argument** je *hodnota premennej*, ktorú inštancia funkcie dostáva pri jej volaní\n",
    "\n",
    "### *Argumenty* vs. *keyword argumenty*\n",
    "\n",
    "- Funkcie je možné volať aj s explicitným vyjadrením názvov ich parametrov"
   ]
  },
  {
   "cell_type": "code",
   "execution_count": null,
   "metadata": {},
   "outputs": [],
   "source": [
    "print(hypotenuse(cathetus1=3, cathetus2=4))"
   ]
  },
  {
   "cell_type": "markdown",
   "metadata": {},
   "source": [
    "- Výhody:\n",
    "    - Možnosť *meniť poradie* parametrov\n",
    "    - Pri funkciách s veľkým množstvom parametrov *prehľadnosť*\n",
    "    \n",
    "### Funkcie s premenným množstvom argumentov\n",
    "\n",
    "```python\n",
    "def f(<povinný_parameter_1><povinný_parameter_2,...,<povinný_parameter_3>, *args):\n",
    "    ...\n",
    "    return ...\n",
    "```\n",
    "\n",
    "- Namiesto zoznamu `args` možno dosadiť akékoľvek množstvo *pozičných* argumentov\n",
    "    - Ich hodnoty budú brané s ohľadom na **poradie**, nemožno ich do funkcie dodávať s menami"
   ]
  },
  {
   "cell_type": "code",
   "execution_count": null,
   "metadata": {},
   "outputs": [],
   "source": [
    "def f(a, b, *args):\n",
    "    product = a * b\n",
    "    \n",
    "    for arg in args:\n",
    "        product *= arg\n",
    "        \n",
    "    return product\n",
    "\n",
    "\n",
    "print(f(5, 6, 7, 9))"
   ]
  },
  {
   "cell_type": "markdown",
   "metadata": {},
   "source": [
    "### Funkcie s povinne-keyword argumentami\n",
    "\n",
    "```python\n",
    "def f(<povinný_parameter_1>, <povinný_parameter_2, ..., <povinný_parameter_3>, *args, <povinný_kwarg_1>, <povinný_kwarg_2>, ...):\n",
    "    ...\n",
    "    return ...\n",
    "```\n",
    "\n",
    "- Nie je nutné využiť variabilné argumenty ([PEP-3102](https://www.python.org/dev/peps/pep-3102/)):\n",
    "```python\n",
    "def f(<povinný_parameter_1>, <povinný_parameter_2, ..., <povinný_parameter_3>, *, <povinný_kwarg_1>, <povinný_kwarg_2>, ...):\n",
    "    ...\n",
    "    return ...\n",
    "```"
   ]
  },
  {
   "cell_type": "code",
   "execution_count": null,
   "metadata": {},
   "outputs": [],
   "source": [
    "def f(a, b, *, c=8):\n",
    "    return a * b * c\n",
    "\n",
    "    \n",
    "print(f(5, 6, c=7))"
   ]
  },
  {
   "cell_type": "markdown",
   "metadata": {},
   "source": [
    "### Anonymné funkcie\n",
    "\n",
    "- Bežnejšie označované ako *lambda* funkcie\n",
    "- Skutočne *nemajú meno* :-)\n",
    "\n",
    "#### Príklad: Návrat päťnásobku argumentu\n",
    "*Pozn.:* Aby sme mohli anonymnú funkciu zavolať, tentokrát jej meno *priradíme* (správnejšie, no menej logicky povedané, priradíme *funkciu do mena*) "
   ]
  },
  {
   "cell_type": "code",
   "execution_count": null,
   "metadata": {},
   "outputs": [],
   "source": [
    "f = lambda x: 5 * x\n",
    "\n",
    "print(f(7))\n",
    "print(f('a'))"
   ]
  },
  {
   "cell_type": "markdown",
   "metadata": {},
   "source": [
    "- Využitie:\n",
    "    - Najčastejšie asi pri volaní funkcií, ktoré majú *funkcie ako parametre*"
   ]
  },
  {
   "cell_type": "code",
   "execution_count": null,
   "metadata": {},
   "outputs": [],
   "source": [
    "print(hypotenuse(3, 4, lambda x: x / 2))"
   ]
  },
  {
   "cell_type": "markdown",
   "metadata": {},
   "source": [
    "## Jedna samostatná úloha\n",
    "\n",
    "---"
   ]
  },
  {
   "cell_type": "markdown",
   "metadata": {},
   "source": [
    "> **Úloha 2**: (5 min)\n",
    "> - Máme zoznam hodnôt s jednotkami *pF* a *A*.\n",
    "> - Hodnoty v pikofaradoch predstavujú *kondenzátory*, hodnoty v ampéroch *zdroje*.\n",
    "> - Chceme spočítať, koľko je v zozname kondenzátorov a koľko zdrojov.\n",
    "> - Príklad: Pre vstup \n",
    "```console\n",
    "['486 A', '99 A', '50 pF', '346 pF', '131 pF', '358 A', '482 A', '24 pF', '51 A', '407 A']\n",
    "```\n",
    "> by sme sa chceli dopočítať k 6 zdrojom a 4 kondenzátorom\n",
    "\n",
    "> - *Nápoveda 1*: Získanie jednotiek z reťazca tvaru `'24 pF'` možno urobiť pomocou `'24 pF'.split(' ')[-1]`\n",
    "> - *Nápoveda 2*: Aplikácia operácie na každý element poľa: funkcia `map`"
   ]
  },
  {
   "cell_type": "code",
   "execution_count": null,
   "metadata": {},
   "outputs": [],
   "source": [
    "l = [1, 2, 3, 4, 5]\n",
    "\n",
    "print(list(map(lambda k: k**2, l)))"
   ]
  },
  {
   "cell_type": "code",
   "execution_count": null,
   "metadata": {},
   "outputs": [],
   "source": [
    "values = ['{:2d} {}'.format(value, unit) for value, unit in zip(list(np.random.randint(500, size=10)), list(np.random.choice(['pF', 'A'], 10)))]\n",
    "\n",
    "##################\n",
    "# Your code here #\n",
    "##################"
   ]
  },
  {
   "cell_type": "markdown",
   "metadata": {},
   "source": [
    "> **Riešenie:**"
   ]
  },
  {
   "cell_type": "code",
   "execution_count": null,
   "metadata": {},
   "outputs": [],
   "source": [
    "values = ['{:2d} {}'.format(value, unit) for value, unit in zip(list(np.random.randint(500, size=10)), list(np.random.choice(['pF', 'A'], 10)))]\n",
    "\n",
    "units = list(map(lambda k: k.split(' ')[-1], values))\n",
    "\n",
    "c = s = 0\n",
    "for u in units:\n",
    "    if u == 'pF':\n",
    "        c += 1\n",
    "    elif u == 'A':\n",
    "        s += 1\n",
    "        \n",
    "print('There are ' + str(s) + ' sources and ' + str(c) + ' capacitors in the list.')"
   ]
  },
  {
   "cell_type": "markdown",
   "metadata": {},
   "source": [
    "## Dokončenie klasických úloh\n",
    "\n",
    "---"
   ]
  },
  {
   "cell_type": "markdown",
   "metadata": {},
   "source": [
    "7. Vytvorte *funkciu* pre výpočet Ludolfovho čísla pomocou $n$ prvkov Leibnizovho radu"
   ]
  },
  {
   "cell_type": "code",
   "execution_count": null,
   "metadata": {},
   "outputs": [],
   "source": [
    "def pi_leibniz(n=1000):\n",
    "    pi = 0\n",
    "    \n",
    "    for k in range(n):\n",
    "        pi += 4 * (-1)**k / (2 * k + 1)\n",
    "    \n",
    "    return pi\n",
    "\n",
    "\n",
    "print('pi: ' + str(pi_leibniz(int(1e5))))"
   ]
  },
  {
   "cell_type": "markdown",
   "metadata": {},
   "source": [
    "8. Zistite, koľko členov radu je treba zahrnúť, aby sme dostali $\\pi$ s presnosťou na $10^{-6}$"
   ]
  },
  {
   "cell_type": "code",
   "execution_count": null,
   "metadata": {},
   "outputs": [],
   "source": [
    "precision = 1e-2\n",
    "pi_true = np.pi\n",
    "\n",
    "n = 1\n",
    "while np.abs(pi_true - pi_leibniz(n)) > precision:\n",
    "    n += 1\n",
    "\n",
    "print(n)"
   ]
  },
  {
   "cell_type": "markdown",
   "metadata": {},
   "source": [
    "### Jednoduchý automat na mince\n",
    "\n",
    "- Napíšte program, ktorý pre zadanú čiastku (v celých korunách) vypíše najmenší počet mincí (20, 10, 5, 2, 1), z ktorých sa dá daná čiastka zložiť"
   ]
  },
  {
   "cell_type": "code",
   "execution_count": null,
   "metadata": {},
   "outputs": [],
   "source": [
    "def automat(amount):\n",
    "    n_coins = 0\n",
    "    coins = [20, 10, 5, 2, 1]\n",
    "    \n",
    "    for coin in coins:\n",
    "        n_coins += amount // coin\n",
    "        amount -= (amount // coin) * coin\n",
    "        \n",
    "    return n_coins\n",
    "\n",
    "\n",
    "print(automat(50))"
   ]
  },
  {
   "cell_type": "markdown",
   "metadata": {},
   "source": [
    "- Rozšírte program tak, aby vypisoval použité mince"
   ]
  },
  {
   "cell_type": "code",
   "execution_count": null,
   "metadata": {},
   "outputs": [],
   "source": [
    "def automat(amount):\n",
    "    coins = [20, 10, 5, 2, 1]\n",
    "    used_coins = ''\n",
    "    \n",
    "    for coin in coins:\n",
    "        used_coins += (amount // coin) * (str(coin) + ' ')\n",
    "        amount -= (amount // coin) * coin\n",
    "        \n",
    "    return used_coins\n",
    "\n",
    "\n",
    "print(automat(107))"
   ]
  },
  {
   "cell_type": "markdown",
   "metadata": {},
   "source": [
    "- Nechajte program vypísať vloženú čiastku aj v iných menách"
   ]
  },
  {
   "cell_type": "code",
   "execution_count": null,
   "metadata": {},
   "outputs": [],
   "source": [
    "def exchange(amount, currency='euro'):\n",
    "    rates = {'euro': .037,\n",
    "             'chilean_peso': 34.14,\n",
    "             'bitcoin': 4e-6,\n",
    "             'australian_dollar': .061,\n",
    "             'belize_dollar': .088} # 1 CZK == ...\n",
    "    \n",
    "    if currency in rates.keys():\n",
    "        return amount * rates[currency]\n",
    "    else:\n",
    "        print('No evidence.')\n",
    "        return None\n",
    "    \n",
    "\n",
    "amount = 1000\n",
    "currency = 'bitcoin'\n",
    "print(str(amount) + ' CZK = ' + str(exchange(amount, currency)) + ' ' + currency)"
   ]
  },
  {
   "cell_type": "markdown",
   "metadata": {},
   "source": [
    "## Čo ďalej\n",
    "\n",
    "---\n",
    "\n",
    "- Ešte raz si prejsť dnešné cvičenie, pochopenie dnešnej látky je naozaj dôležité.\n",
    "- Naprogramovať si zopár vlastných úloh\n",
    "    - Tip 1: Skúste si prejsť zopár úloh z [KSP](https://ksp.mff.cuni.cz/tasks/32/tasks1.html)\n",
    "    - Tip 2: Výpočet $\\pi$ metódou Monte Carlo\n",
    "        - Trochu nad rámec dnešného cvičenia (je potrebné použiť nejaký generátor vzoriek)\n",
    "    - Tip 3: Hľadanie prvočísel menších než $N$ pomocou algoritmu [Eratosthenovho sita](https://en.wikipedia.org/wiki/Sieve_of_Eratosthenes).\n",
    "        - Jednoduchšia úloha"
   ]
  },
  {
   "cell_type": "code",
   "execution_count": null,
   "metadata": {},
   "outputs": [],
   "source": []
  }
 ],
 "metadata": {
  "kernelspec": {
   "display_name": "Python 3",
   "language": "python",
   "name": "python3"
  },
  "language_info": {
   "codemirror_mode": {
    "name": "ipython",
    "version": 3
   },
   "file_extension": ".py",
   "mimetype": "text/x-python",
   "name": "python",
   "nbconvert_exporter": "python",
   "pygments_lexer": "ipython3",
   "version": "3.7.5"
  }
 },
 "nbformat": 4,
 "nbformat_minor": 4
}

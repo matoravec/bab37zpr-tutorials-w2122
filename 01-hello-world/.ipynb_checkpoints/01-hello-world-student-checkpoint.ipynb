{
 "cells": [
  {
   "cell_type": "markdown",
   "metadata": {},
   "source": [
    "# 01: Hello World!\n",
    "\n",
    "Vitajte vo svojom prvom Jupyter notebooku!\n",
    "\n",
    "Pred chvíľou sme si vyskúšali prácu s Pythonom v príkazovom riadku a IPython konzoli. Skúsili sme si Python použiť v interaktívnom režime i režime \"s argumentom.\" Teraz sa dostávame k *Jupyter notebook*. Ide o skupinu niekoľkých *buniek*, ktoré môžu byť rôzne interpretované. Zákadné interpretácie, ktoré máme k dispozícii bez inštalácie doplnkov, sú\n",
    "\n",
    "* **Markdown:** Jazyk na formátovaný zápis bežného textu (https://en.wikipedia.org/wiki/Markdown)\n",
    "* **Code:** Python kód\n",
    "* **Raw:** Holý text.\n",
    "\n",
    "Typ bunky sa volí v hornom menu otvoreného notebooku. Je možné využiť aj klávesové skratky. Default typ je *Code* v jazyku, ktorý je zviazaný s notebookom. V základnej inštalácii je to Python, ale existuje množstvo tzv. *Jupyter kernelov*, ktoré umožnia interpretáciu kódu v iných jazykoch. Tým sa však nebudeme na tomto predmete zaoberať a môžeme to brať tak, že bunka typu *Code* je jednoducho Python program. \n",
    "\n",
    "Bunka sa vyhodnotí po stlačení kláves `Shift`+`Enter`. Vyhodnocovanie viacerých buniek si je možné predstaviť tak, že je vyhodnocovaný dlhý Python program, kde obsahy buniek sú napísané zhora nadol:"
   ]
  },
  {
   "cell_type": "code",
   "execution_count": null,
   "metadata": {},
   "outputs": [],
   "source": []
  },
  {
   "cell_type": "code",
   "execution_count": null,
   "metadata": {},
   "outputs": [],
   "source": []
  },
  {
   "cell_type": "code",
   "execution_count": null,
   "metadata": {},
   "outputs": [],
   "source": []
  },
  {
   "cell_type": "markdown",
   "metadata": {},
   "source": [
    "V ľavom menu máme k dispozícii file manager, prehľad otvorených záložiek, štruktúru aktuálneho súboru a *Extension manager*."
   ]
  },
  {
   "cell_type": "markdown",
   "metadata": {},
   "source": [
    "## Hello World #1\n",
    "\n",
    "Poďme si napísať *Hello World!*."
   ]
  },
  {
   "cell_type": "code",
   "execution_count": null,
   "metadata": {},
   "outputs": [],
   "source": []
  },
  {
   "cell_type": "markdown",
   "metadata": {},
   "source": [
    "## Hello World #2"
   ]
  },
  {
   "cell_type": "markdown",
   "metadata": {},
   "source": [
    "IPython kernel, ktorý beží v pozadí notebooku, umožňuje napísať tento program ešte jednoduchšie:"
   ]
  },
  {
   "cell_type": "code",
   "execution_count": null,
   "metadata": {},
   "outputs": [],
   "source": []
  },
  {
   "cell_type": "markdown",
   "metadata": {},
   "source": [
    "Netreba však zabúdať na to, že mimo IPythonu takýto program skončí chybou."
   ]
  },
  {
   "cell_type": "markdown",
   "metadata": {},
   "source": [
    "## Systémové príkazy\n",
    "\n",
    "Ak treba vyhodnotiť systémový príkaz, môžeme to urobiť priamo z Jupyter notebooku:"
   ]
  },
  {
   "cell_type": "code",
   "execution_count": null,
   "metadata": {},
   "outputs": [],
   "source": []
  },
  {
   "cell_type": "markdown",
   "metadata": {},
   "source": [
    "## Magic functions\n",
    "\n",
    "Okrem toho máme k dispozícii tzv. [*magic functions*](https://ipython.readthedocs.io/en/stable/interactive/magics.html):"
   ]
  },
  {
   "cell_type": "code",
   "execution_count": null,
   "metadata": {},
   "outputs": [],
   "source": []
  },
  {
   "cell_type": "code",
   "execution_count": null,
   "metadata": {},
   "outputs": [],
   "source": []
  },
  {
   "cell_type": "code",
   "execution_count": null,
   "metadata": {},
   "outputs": [],
   "source": []
  },
  {
   "cell_type": "code",
   "execution_count": null,
   "metadata": {},
   "outputs": [],
   "source": []
  },
  {
   "cell_type": "markdown",
   "metadata": {},
   "source": [
    "## Ukladanie notebooku\n",
    "\n",
    "Notebooky sa štandardne ukladajú vo forme textových *json* súborov, štandardná prípona je `.ipynb`. Tak, ako v iných GUI je to možné urobiť kliknutím na ikonu diskety, klikacou sekvenciou *File > Save notebook* či klávesovou skratkou `Ctrl`+`S`."
   ]
  }
 ],
 "metadata": {
  "kernelspec": {
   "display_name": "Python 3",
   "language": "python",
   "name": "python3"
  },
  "language_info": {
   "codemirror_mode": {
    "name": "ipython",
    "version": 3
   },
   "file_extension": ".py",
   "mimetype": "text/x-python",
   "name": "python",
   "nbconvert_exporter": "python",
   "pygments_lexer": "ipython3",
   "version": "3.7.5"
  }
 },
 "nbformat": 4,
 "nbformat_minor": 4
}

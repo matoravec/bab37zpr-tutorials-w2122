{
 "cells": [
  {
   "cell_type": "markdown",
   "metadata": {},
   "source": [
    "# 04: Objekty\n",
    "\n",
    "---\n",
    "\n",
    "## Vsuvka: reakcia na feedback z 3. týždňa\n",
    "\n",
    "* Viacerí sa ozývajú, že majú problémy s Jupyter Lab\n",
    "    * https://jupyterlab.readthedocs.io/en/stable/getting_started/installation.html\n",
    "    * https://stackoverflow.com/questions/68697345/how-to-install-jupyter-lab-notebook-on-windows-10\n",
    "    * https://stackoverflow.com/search?q=jupyter+lab+windows+install\n",
    "    * https://stackoverflow.com/questions/64301809/jupyter-lab-will-not-start\n",
    "    * https://stackoverflow.com/questions/41034866/running-jupyter-via-command-line-on-windows\n",
    "    \n",
    "* Niektorí by si radi pripomenuli základy Pythonu\n",
    "    * https://justinbois.github.io/bootcamp/2020/index.html\n",
    "    \n",
    "    \n",
    "---"
   ]
  },
  {
   "cell_type": "markdown",
   "metadata": {
    "tags": []
   },
   "source": [
    "## Inicializácia"
   ]
  },
  {
   "cell_type": "code",
   "execution_count": null,
   "metadata": {},
   "outputs": [],
   "source": [
    "import math"
   ]
  },
  {
   "cell_type": "markdown",
   "metadata": {},
   "source": [
    "## Čo je to *trieda*\n",
    "\n",
    "- Abstraktný dátový typ\n",
    "- Všeobecná reprezentácia konkrétnej entity\n",
    "\n",
    "### Príklad: trieda *bežec*\n",
    "\n",
    "- **Atribúty** (vlastnosti, parametre)\n",
    "    - Možno ich definovať pre *každého bežca*\n",
    "    - Každý bežec môže mať iné ich hodnoty\n",
    "    - Pohlavie, výška, hmotnosť, najrýchlejší čas maratónu, fyzická čerstvosť...\n",
    "- **Metódy** (činnosti)\n",
    "    - Každý bežec by ich mal zvládnuť (trénovať, odpočívať, pretekať,...)\n",
    "    - Kvalita ich vykonania záleží na konkrétnom bežcovi\n",
    "    \n",
    "## Čo je *objekt*\n",
    "\n",
    "- Inštancia (exemplár) istej triedy\n",
    "\n",
    "### Príklad: Eliud Kipchoge\n",
    "\n",
    "- **Atribúty**\n",
    "    - Pohlavie: muž\n",
    "    - Výška: 167 cm\n",
    "    - Hmotnosť: 52 kg\n",
    "    - Najrýchlejší čas maratónu: 2:01:39 (oficiálne uznaný)\n",
    "    - Čerstvosť: Aktuálne napríklad 0.8\n",
    "    \n",
    "- Hodnoty niektorých atribútov je možné meniť."
   ]
  },
  {
   "cell_type": "code",
   "execution_count": null,
   "metadata": {},
   "outputs": [],
   "source": []
  },
  {
   "cell_type": "code",
   "execution_count": null,
   "metadata": {},
   "outputs": [],
   "source": []
  },
  {
   "cell_type": "code",
   "execution_count": null,
   "metadata": {},
   "outputs": [],
   "source": []
  },
  {
   "cell_type": "markdown",
   "metadata": {},
   "source": [
    "-----\n",
    "## Všeobecné úlohy\n",
    "\n",
    "1. Definujte triedu `Complex`, ktorá bude popisovať komplexné číslo. V rámci triedy budú definované atribúty pre reálnu a imaginárnu zložku čísla, metódy pre aritmetické operácie a metóda pre reprezentáciu čísla."
   ]
  },
  {
   "cell_type": "code",
   "execution_count": null,
   "metadata": {},
   "outputs": [],
   "source": []
  },
  {
   "cell_type": "code",
   "execution_count": null,
   "metadata": {},
   "outputs": [],
   "source": []
  },
  {
   "cell_type": "markdown",
   "metadata": {},
   "source": [
    "2. Napíšte program, ktorý bude realizovať jednoduchú databázu kníh. Knihy sú reprezentované objektami triedy `Book`, ktorá má atribúty *name*, *author* a *year*. Databáza samotná je reprezentovaná objektom triedy `Library`. Výpis všetkých kníh je možné radiť pomocou niektorého z atribútov triedy `Book`. "
   ]
  },
  {
   "cell_type": "code",
   "execution_count": null,
   "metadata": {},
   "outputs": [],
   "source": []
  },
  {
   "cell_type": "code",
   "execution_count": null,
   "metadata": {},
   "outputs": [],
   "source": []
  },
  {
   "cell_type": "markdown",
   "metadata": {},
   "source": [
    "-----------\n",
    "## Zásobník (stack)\n",
    "\n",
    "![Zásobník](stack.gif)\n",
    "\n",
    "* LIFO (last in, first out) štruktúra\n",
    "* Metódy pridávania a uberania prvkov označované väčšinou ako *push* a *pop*"
   ]
  },
  {
   "cell_type": "code",
   "execution_count": null,
   "metadata": {},
   "outputs": [],
   "source": []
  },
  {
   "cell_type": "code",
   "execution_count": null,
   "metadata": {},
   "outputs": [],
   "source": []
  },
  {
   "cell_type": "markdown",
   "metadata": {},
   "source": [
    "-----------\n",
    "## Rad (queue)\n",
    "\n",
    "![Rad](queue.gif)\n",
    "\n",
    "* FIFO (first in, first out) štruktúra\n",
    "* Metódy pridávania a uberania prvkov označované väčšinou ako *enqueue* a *dequeue*"
   ]
  },
  {
   "cell_type": "code",
   "execution_count": null,
   "metadata": {},
   "outputs": [],
   "source": []
  },
  {
   "cell_type": "code",
   "execution_count": null,
   "metadata": {},
   "outputs": [],
   "source": []
  },
  {
   "cell_type": "code",
   "execution_count": null,
   "metadata": {},
   "outputs": [],
   "source": []
  }
 ],
 "metadata": {
  "kernelspec": {
   "display_name": "Python 3",
   "language": "python",
   "name": "python3"
  },
  "language_info": {
   "codemirror_mode": {
    "name": "ipython",
    "version": 3
   },
   "file_extension": ".py",
   "mimetype": "text/x-python",
   "name": "python",
   "nbconvert_exporter": "python",
   "pygments_lexer": "ipython3",
   "version": "3.7.5"
  }
 },
 "nbformat": 4,
 "nbformat_minor": 4
}

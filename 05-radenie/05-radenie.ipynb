{
 "cells": [
  {
   "cell_type": "markdown",
   "metadata": {},
   "source": [
    "# 05: Radenie\n",
    "\n",
    "Zoraďovanie prvkov poľa je častou úlohou, ku ktorej riešeniu existuje množstvo možných prístupov. V Pythone nám typicky môže stačiť zavolať metódu `list.sort`:"
   ]
  },
  {
   "cell_type": "code",
   "execution_count": 2,
   "metadata": {},
   "outputs": [],
   "source": [
    "import random"
   ]
  },
  {
   "cell_type": "code",
   "execution_count": 11,
   "metadata": {},
   "outputs": [
    {
     "name": "stdout",
     "output_type": "stream",
     "text": [
      "Original: [9, 6, 1, 3, 5, 0, 8, 4, 2, 7]\n",
      "Sorted: [0, 1, 2, 3, 4, 5, 6, 7, 8, 9]\n"
     ]
    }
   ],
   "source": [
    "a = list(range(10))\n",
    "random.shuffle(a)\n",
    "print('Original: {}'.format(a))\n",
    "\n",
    "a.sort()\n",
    "print('Sorted: {}'.format(a))"
   ]
  },
  {
   "cell_type": "markdown",
   "metadata": {},
   "source": [
    "My si však skúsime naprogramovať zoraďovanie poľa sami, bez využitia zabudovaných zoraďovacích metód.\n",
    "\n",
    "Najskôr si zadefinujme funkciu, ktorá nám vráti nezoradené pole. To len preto, aby sme mali na čom neskôr naše zoraďovanie skúšať."
   ]
  },
  {
   "cell_type": "code",
   "execution_count": 12,
   "metadata": {},
   "outputs": [],
   "source": [
    "def get_unsorted(length=100):\n",
    "    \"\"\"\n",
    "    Unsorted array of integers.\n",
    "    \n",
    "    Args:\n",
    "        length (int): Number of elements in the returned array. *Default: 100.*\n",
    "    \n",
    "    Returns:\n",
    "        list[int]: An array full of random integers ranging from -100 to 100 (100 not included).\n",
    "    \"\"\"\n",
    "    return [random.randrange(-100, 100) for i in range(length)]"
   ]
  },
  {
   "cell_type": "markdown",
   "metadata": {},
   "source": [
    "## Zoraďovanie polí\n",
    "\n",
    "- *Poľom* nazveme akúkoľvek reprezentáciu usporiadanej $n$-tice **rovnakého dátového typu**.\n",
    "    - Zoraďovací predpis, samozrejme, možno definovať i pre $n$-ticu zloženú z rôznych dátových typov. Pre názornosť ale takéto prípady vynecháme. Platia na ne rovnaké algoritmy ako na homogénne $n$-tice, teda polia v našom ponímaní.\n",
    "    - Pre jednoduchosť budeme pracovať s *reálnymi číslami*\n",
    "        - Prirodzene definované operátory `<`, `>`, `<=`, `>=`, `==`\n",
    "    \n",
    "- Cieľ: Usporiadať hodnoty v poli\n",
    "    - *Vzostupne*\n",
    "        - Zostupné usporiadanie je založené na rovnakom princípe, iba zmysel porovnaní bude opačný\n",
    "   \n",
    "--------\n",
    "### Bubble sort\n",
    "\n",
    "<img src=\"bubble_sort.gif\" width=800 />\n",
    "\n",
    "- Jeden beh:\n",
    "    - Okienko o dvoch susedných hodnotách $a$ a $b$\n",
    "    - Pokiaľ $a > b$, nastane zmena pozícií\n",
    "    - Posun okienka o jeden prvok vpravo\n",
    "    \n",
    "- Pri každom behu sa na správnu pozíciu dostane aspoň jedna hodnota.\n",
    "    - Pre $n$-prvkové pole teda treba $n - 1$ behov\n",
    "        - Pri každom z nich $n - 1$ porovnaní\n",
    "\n",
    "- Asymptotická zložitosť algoritmu $\\mathcal{O}(n^2)$\n",
    "- Schopnosť detekovať, že pole je už zoradené\n",
    "    - V najlepšom prípade (už zoradené pole) je zložitosť $\\mathcal{O}(n)$ (Prebehne iba 1 beh)"
   ]
  },
  {
   "cell_type": "code",
   "execution_count": 13,
   "metadata": {},
   "outputs": [
    {
     "name": "stdout",
     "output_type": "stream",
     "text": [
      "CPU times: user 3.72 ms, sys: 0 ns, total: 3.72 ms\n",
      "Wall time: 3.73 ms\n",
      "[-98, -97, -93, -92, -91, -86, -78, -78, -78, -76, -74, -70, -68, -62, -62, -61, -60, -60, -59, -57, -56, -49, -47, -46, -43, -40, -38, -38, -37, -36, -36, -34, -33, -32, -31, -26, -20, -19, -18, -17, -15, -15, -15, -14, -12, -9, -6, -3, -1, -1, 0, 0, 1, 1, 5, 10, 11, 12, 13, 13, 14, 15, 15, 16, 17, 19, 21, 26, 26, 27, 28, 28, 30, 31, 33, 35, 39, 39, 41, 42, 42, 47, 49, 49, 51, 53, 55, 57, 59, 73, 73, 74, 76, 76, 77, 79, 80, 85, 90, 94]\n"
     ]
    }
   ],
   "source": [
    "a = get_unsorted()\n",
    "        \n",
    "def bubble_sort(a):\n",
    "    n = len(a)\n",
    "    sorted = False\n",
    "    \n",
    "    while not sorted:\n",
    "        sorted = True # Initialize the sorted flag by True\n",
    "        for i in range(n - 1):\n",
    "            if a[i] > a[i + 1]: # If a bad order occurs\n",
    "                a[i], a[i + 1] = a[i + 1], a[i] # Swap the elements\n",
    "                sorted = False # Mark the array as not sorted\n",
    "                \n",
    "    return a\n",
    "\n",
    "%time bubble_sort(a)\n",
    "print(a)"
   ]
  },
  {
   "cell_type": "markdown",
   "metadata": {},
   "source": [
    "-----------\n",
    "\n",
    "### Insertion sort\n",
    "\n",
    "<img src=\"insertion_sort.gif\" width=800 />\n",
    "\n",
    "- Prvý prvok poľa je sám o sebe zoradeným poľom.\n",
    "- Zoberieme 2. prvok a zaradíme ho do poľa vľavo\n",
    "    - Tým získame dvojprvkové zoradené pole na začiatku celého poľa\n",
    "- Zoberieme 3. prvok a zaradíme ho do dvojprvkového zoradeného poľa\n",
    "    - Tým získame trojprvkové zoradené pole na začiatku celého poľa\n",
    "- ...a pokračujeme až po posledný prvok celkového poľa.\n",
    "\n",
    "\n",
    "- Prechádzame $n-1$ prvkov\n",
    "    - Pre prvý 1 porovnanie\n",
    "    - Pre druhý najviac 2 porovnania\n",
    "    - Pre tretí najviac 3 porovnania atď.\n",
    "- V najhoršom prípade teda celkovo $\\sum_{k=1}^{n-1}k$ porovnaní"
   ]
  },
  {
   "cell_type": "code",
   "execution_count": 15,
   "metadata": {},
   "outputs": [],
   "source": [
    "from sympy import *"
   ]
  },
  {
   "cell_type": "code",
   "execution_count": 16,
   "metadata": {},
   "outputs": [
    {
     "data": {
      "text/latex": [
       "$\\displaystyle \\frac{n^{2}}{2} - \\frac{n}{2}$"
      ],
      "text/plain": [
       "n**2/2 - n/2"
      ]
     },
     "execution_count": 16,
     "metadata": {},
     "output_type": "execute_result"
    }
   ],
   "source": [
    "k, n = symbols('k n')\n",
    "Sum(k, (k, 1, n - 1)).doit()"
   ]
  },
  {
   "cell_type": "markdown",
   "metadata": {},
   "source": [
    "* Asymptotická zložitosť $\\mathcal{O}(n^2)$"
   ]
  },
  {
   "cell_type": "code",
   "execution_count": 17,
   "metadata": {},
   "outputs": [
    {
     "name": "stdout",
     "output_type": "stream",
     "text": [
      "CPU times: user 35 ms, sys: 58 µs, total: 35.1 ms\n",
      "Wall time: 37.5 ms\n",
      "[-99, -99, -95, -94, -92, -92, -92, -91, -91, -88, -88, -87, -86, -80, -80, -79, -78, -77, -77, -76, -74, -73, -69, -65, -65, -59, -59, -58, -56, -55, -51, -51, -47, -46, -45, -39, -38, -37, -30, -27, -23, -20, -18, -17, -17, -15, -12, -12, -8, -7, -4, 6, 9, 10, 11, 13, 13, 17, 17, 20, 21, 22, 25, 27, 28, 28, 28, 29, 29, 32, 39, 42, 43, 46, 47, 51, 59, 60, 61, 64, 65, 66, 68, 69, 78, 82, 83, 86, 86, 90, 93, 93, 95, 95, 96, 96, 97, 97, 97, 99]\n"
     ]
    }
   ],
   "source": [
    "a = get_unsorted()\n",
    "\n",
    "def insertion_sort(a):\n",
    "    n = len(a)\n",
    "    for i in range(1, n):\n",
    "        a[:i + 1] = bubble_sort(a[:i] + [a[i]])\n",
    "        \n",
    "%time insertion_sort(a)\n",
    "print(a)"
   ]
  },
  {
   "cell_type": "markdown",
   "metadata": {},
   "source": [
    "-----------\n",
    "\n",
    "### Quicksort\n",
    "\n",
    "- Patrí do skupiny algoritmov typu *rozdeľ a panuj*.\n",
    "- Zaraďuje sa do triedy zložitosti $\\mathcal{O}(n\\log n)$\n",
    "- Využitie *rekurzie*\n",
    "\n",
    "> #### Rekurzia\n",
    ">\n",
    "> - Pokiaľ nie je splnená ukončovacia podmienka, funkcia **volá samú seba**."
   ]
  },
  {
   "cell_type": "code",
   "execution_count": 19,
   "metadata": {},
   "outputs": [
    {
     "name": "stdout",
     "output_type": "stream",
     "text": [
      "7 pieces left.\n",
      "6 pieces left.\n",
      "5 pieces left.\n",
      "4 pieces left.\n",
      "3 pieces left.\n",
      "2 pieces left.\n",
      "1 pieces left.\n",
      "0 pieces left.\n",
      "The cake is already eaten.\n"
     ]
    }
   ],
   "source": [
    "def eat_cake(n_pcs):\n",
    "    print('{:d} pieces left.'.format(n_pcs))\n",
    "    if n_pcs > 0:\n",
    "        eat_cake(n_pcs - 1)\n",
    "    else:\n",
    "        print('The cake is already eaten.')\n",
    "        \n",
    "eat_cake(7)"
   ]
  },
  {
   "cell_type": "markdown",
   "metadata": {},
   "source": [
    "* Algoritmus quicksort:\n",
    "\n",
    "\n",
    "> * Vyber **pivot** (napr. prvý prvok poľa)\n",
    ">\n",
    "> * Prejdi celé pole a **preusporiadaj** ho tak, aby naľavo od pivota boli iba prvky **menšie než pivot** a napravo od neho iba prvky, ktoré sú **väčšie než pivot**.\n",
    ">\n",
    "> * **Zoraď pomocou *quicksort*** pole vľavo od pivota i pole vpravo od pivota."
   ]
  },
  {
   "cell_type": "code",
   "execution_count": 20,
   "metadata": {},
   "outputs": [
    {
     "name": "stdout",
     "output_type": "stream",
     "text": [
      "CPU times: user 308 µs, sys: 43 µs, total: 351 µs\n",
      "Wall time: 363 µs\n",
      "[-96, -95, -93, -91, -87, -79, -79, -78, -78, -75, -73, -72, -71, -71, -71, -70, -67, -64, -60, -56, -54, -54, -52, -50, -49, -48, -48, -45, -44, -40, -39, -38, -36, -33, -29, -29, -28, -27, -24, -24, -24, -23, -21, -17, -11, -9, -9, -8, -8, -4, -3, -2, 2, 4, 9, 11, 14, 17, 18, 20, 22, 24, 25, 26, 27, 30, 30, 30, 31, 33, 35, 36, 38, 38, 43, 47, 47, 50, 50, 56, 58, 61, 64, 64, 65, 65, 66, 66, 66, 72, 75, 75, 81, 83, 85, 85, 89, 92, 92, 96]\n"
     ]
    }
   ],
   "source": [
    "def quick_sort(a):\n",
    "    pivot = a[0] # Set the first element as pivot\n",
    "    smaller = [] # List for elements smaller than pivot\n",
    "    greater = [] # List for elements greater than pivot\n",
    "        \n",
    "    for element in a[1:]: # For all the elements but pivot:\n",
    "        if element < pivot: # If an element is smaller than pivot...\n",
    "            smaller.append(element) # ...append it to the 'smaller' list\n",
    "        else: # If the element is greater instead...\n",
    "            greater.append(element) # ...append it to the 'greater' list\n",
    "        \n",
    "    smaller = quick_sort(smaller) if len(smaller) else smaller # If there is something in the 'smaller' list, call quick_sort on it\n",
    "    greater = quick_sort(greater) if len(greater) else greater # If there is something in the 'greater' list, call quick_sort on it\n",
    "    \n",
    "    return smaller + [pivot] + greater # Build a return value as a linkage of [smaller], [pivot], and [greater]\n",
    "    \n",
    "    \n",
    "a = get_unsorted()\n",
    "\n",
    "%time a = quick_sort(a)\n",
    "print(a)"
   ]
  },
  {
   "cell_type": "markdown",
   "metadata": {},
   "source": [
    "-----------\n",
    "### Bogosort"
   ]
  },
  {
   "cell_type": "code",
   "execution_count": 21,
   "metadata": {},
   "outputs": [
    {
     "name": "stdout",
     "output_type": "stream",
     "text": [
      "CPU times: user 105 µs, sys: 15 µs, total: 120 µs\n",
      "Wall time: 133 µs\n",
      "[-43, -12, 15, 44, 97]\n"
     ]
    }
   ],
   "source": [
    "def issorted(a):\n",
    "    return all([a[i] <= a[i + 1] for i in range(len(a) - 1)]) \n",
    "\n",
    "def bogo_sort(a):\n",
    "    while not issorted(a):\n",
    "        random.shuffle(a)\n",
    "    return a\n",
    "\n",
    "a = get_unsorted(5)\n",
    "%time bogo_sort(a)\n",
    "\n",
    "print(a)"
   ]
  },
  {
   "cell_type": "markdown",
   "metadata": {},
   "source": [
    "------------\n",
    "* Zoraďovacích algoritmov existuje ešte omnoho viac $-$ viď napr. [Wikipedia](https://en.wikipedia.org/wiki/Sorting_algorithm)\n",
    "\n",
    "### Zabudované zoraďovacie funkcie Pythonu\n",
    "\n",
    "* `list.sort()` ([Dokumentácia](https://docs.python.org/3/library/stdtypes.html#list.sort))$~\\to ~$ Zoradenie zoznamu *na mieste*\n",
    "\n",
    "    * Parameter `reverse` (bool): `list.sort()` defaultne[<sup>1</sup>](#foot01) zoraďuje zoznam *vzostupne*. Pokiaľ je hodnota argumentu pre parameter `reverse` nastavená na  `True`, zmysel porovnávaní bude zmenený a pole bude zoradené v *zostupnom* zmysle (*default* `False`)\n",
    "    \n",
    "    * Parameter `key` (callable): Funkcia, ktorá transformuje hodnoty zoznamu na kľúče, ktoré majú vstúpovať do porovnávaní (*default* `None`)\n",
    "        * Príklad:"
   ]
  },
  {
   "cell_type": "code",
   "execution_count": 23,
   "metadata": {},
   "outputs": [
    {
     "name": "stdout",
     "output_type": "stream",
     "text": [
      "[7, '7', 'Foo', 'Whale', [1, 2, 3], 'foo', 'seven', 'whale']\n",
      "[7, '7', [1, 2, 3], 'foo', 'Foo', 'seven', 'Whale', 'whale']\n"
     ]
    }
   ],
   "source": [
    "l = [7, 'foo', 'Whale', 'Foo', 'whale', '7', 'seven', [1, 2, 3]]\n",
    "# l.sort() # Error\n",
    "l.sort(key=str)\n",
    "print(l)\n",
    "\n",
    "l = [7, 'foo', 'Whale', 'Foo', 'whale', '7', 'seven', [1, 2, 3]]\n",
    "l.sort(key=lambda x: str(x).lower())\n",
    "print(l)"
   ]
  },
  {
   "cell_type": "markdown",
   "metadata": {},
   "source": [
    "* `sorted()` [Dokumentácia](https://docs.python.org/3/library/functions.html#sorted) $~\\to ~$ Vytvorenie zoradeného poľa z iterovateľného objektu, ktorý je jej povinným parametrom\n",
    "    * Parametre `key` a `reverse` majú rovnaký význam, ako v metóde `list.sort()`"
   ]
  },
  {
   "cell_type": "markdown",
   "metadata": {},
   "source": [
    "----------\n",
    "## Všeobecné úlohy\n",
    "\n",
    "1. Napíšte funkciu `my_find(a, b)`, ktorá v reťazci `a` hľadá reťazec `b` (nepoužívajte zabudovanú funkciu `str.find()`)\n",
    "    * Pokiaľ je reťazec nájdený, funkcia vráti index jeho prvého výskytu *zľava*.\n",
    "    * Pokiaľ reťazec nenájde, vráti -1.\n",
    "    * Efektívna implementácia: [Boyer-Moore-Horspool algoritmus](https://en.wikipedia.org/wiki/Boyer%E2%80%93Moore%E2%80%93Horspool_algorithm)."
   ]
  },
  {
   "cell_type": "code",
   "execution_count": 24,
   "metadata": {},
   "outputs": [
    {
     "name": "stdout",
     "output_type": "stream",
     "text": [
      "4\n",
      "-1\n"
     ]
    }
   ],
   "source": [
    "# The Python find(a, b) function:\n",
    "a = 'mechanotherapy'\n",
    "b = 'another'\n",
    "\n",
    "print(a.find(b))\n",
    "print(a.find('that'))"
   ]
  },
  {
   "cell_type": "code",
   "execution_count": 25,
   "metadata": {},
   "outputs": [
    {
     "name": "stdout",
     "output_type": "stream",
     "text": [
      "4\n",
      "-1\n"
     ]
    }
   ],
   "source": [
    "def my_find(a, b):\n",
    "    if len(a) > len(b):\n",
    "        for start in range(len(a) - len(b)):\n",
    "            if a[start:start + len(b)] in b:\n",
    "                return start # No need for break keyword\n",
    "        return -1\n",
    "    else:\n",
    "        return -1\n",
    "    \n",
    "a = 'mechanotherapy'\n",
    "b = 'another'\n",
    "\n",
    "print(my_find(a, b))\n",
    "print(my_find(a, 'that'))"
   ]
  },
  {
   "cell_type": "markdown",
   "metadata": {},
   "source": [
    "2. Napíšte funkciu `my_replace(a, b, c)`, ktorá v reťazci `a` nahradí všetky výskyty reťazca `b` reťazcom `c`. "
   ]
  },
  {
   "cell_type": "code",
   "execution_count": 26,
   "metadata": {},
   "outputs": [
    {
     "name": "stdout",
     "output_type": "stream",
     "text": [
      "hydrotherapy\n"
     ]
    }
   ],
   "source": [
    "# The Python str.replace(a, b) function:\n",
    "a = 'mechanotherapy'\n",
    "b = 'mechano'\n",
    "c = 'hydro'\n",
    "\n",
    "print(a.replace(b, c))"
   ]
  },
  {
   "cell_type": "code",
   "execution_count": 27,
   "metadata": {},
   "outputs": [
    {
     "name": "stdout",
     "output_type": "stream",
     "text": [
      "hydrotherapy hydrotherapy\n"
     ]
    }
   ],
   "source": [
    "def my_replace(a, b, c):\n",
    "    start = 0\n",
    "    out = a\n",
    "    while not start == -1:\n",
    "        start = my_find(out, b)\n",
    "        if not start == -1:\n",
    "            out = out[:start] + c + out[start + len(b):]\n",
    "    \n",
    "    return out\n",
    "    \n",
    "a = 'mechanotherapy mechanotherapy'\n",
    "b = 'mechano'\n",
    "c = 'hydro'\n",
    "\n",
    "print(my_replace(a, b, c))\n",
    "\n",
    "# a = 'mechanotherapy'\n",
    "# b = 'physio'\n",
    "# c = 'hydro'\n",
    "\n",
    "# print(my_replace(a, b, c))"
   ]
  },
  {
   "cell_type": "markdown",
   "metadata": {},
   "source": [
    "3. Napíšte program, ktorý načíta štandardný vstup a v načítanom reťazci zamení slovo `Hello` za slovo `Hi`. Pokiaľ sa vo vstupnom reťazci objaví slovo `End`, program skončí."
   ]
  },
  {
   "cell_type": "code",
   "execution_count": 28,
   "metadata": {},
   "outputs": [
    {
     "name": "stdin",
     "output_type": "stream",
     "text": [
      " hello\n"
     ]
    },
    {
     "name": "stdout",
     "output_type": "stream",
     "text": [
      "hello\n"
     ]
    },
    {
     "name": "stdin",
     "output_type": "stream",
     "text": [
      " Hello\n"
     ]
    },
    {
     "name": "stdout",
     "output_type": "stream",
     "text": [
      "Hi\n"
     ]
    },
    {
     "name": "stdin",
     "output_type": "stream",
     "text": [
      " a\n"
     ]
    },
    {
     "name": "stdout",
     "output_type": "stream",
     "text": [
      "a\n"
     ]
    },
    {
     "name": "stdin",
     "output_type": "stream",
     "text": [
      " End\n"
     ]
    },
    {
     "name": "stdout",
     "output_type": "stream",
     "text": [
      "\n"
     ]
    }
   ],
   "source": [
    "while True:\n",
    "    line = input()\n",
    "        \n",
    "    end = line.find('End') # Index of 'End'\n",
    "    \n",
    "    if end + 1: # Equivalent to (if end == -1). If there is an E\n",
    "        line = line[:end]  \n",
    "    \n",
    "    while line.find('Hello') + 1: # while there is a 'Hello' substring present\n",
    "        line = line.replace('Hello', 'Hi')\n",
    "        \n",
    "    print(line)\n",
    "    \n",
    "    if end + 1: # if there is an 'End' substring present\n",
    "        break"
   ]
  },
  {
   "cell_type": "code",
   "execution_count": null,
   "metadata": {},
   "outputs": [],
   "source": []
  }
 ],
 "metadata": {
  "kernelspec": {
   "display_name": "Python 3",
   "language": "python",
   "name": "python3"
  },
  "language_info": {
   "codemirror_mode": {
    "name": "ipython",
    "version": 3
   },
   "file_extension": ".py",
   "mimetype": "text/x-python",
   "name": "python",
   "nbconvert_exporter": "python",
   "pygments_lexer": "ipython3",
   "version": "3.9.2"
  }
 },
 "nbformat": 4,
 "nbformat_minor": 4
}

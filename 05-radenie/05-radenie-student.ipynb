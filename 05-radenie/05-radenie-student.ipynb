{
 "cells": [
  {
   "cell_type": "markdown",
   "metadata": {},
   "source": [
    "# 05: Radenie\n",
    "\n",
    "Zoraďovanie prvkov poľa je častou úlohou, ku ktorej riešeniu existuje množstvo možných prístupov. V Pythone nám typicky môže stačiť zavolať metódu `list.sort`:"
   ]
  },
  {
   "cell_type": "code",
   "execution_count": null,
   "metadata": {},
   "outputs": [],
   "source": [
    "import random"
   ]
  },
  {
   "cell_type": "code",
   "execution_count": null,
   "metadata": {},
   "outputs": [],
   "source": [
    "a = list(range(10))\n",
    "random.shuffle(a)\n",
    "print('Original: {}'.format(a))\n",
    "\n",
    "a.sort()\n",
    "print('Sorted: {}'.format(a))"
   ]
  },
  {
   "cell_type": "markdown",
   "metadata": {},
   "source": [
    "My si však skúsime naprogramovať zoraďovanie poľa sami, bez využitia zabudovaných zoraďovacích metód.\n",
    "\n",
    "Najskôr si zadefinujme funkciu, ktorá nám vráti nezoradené pole. To len preto, aby sme mali na čom neskôr naše zoraďovanie skúšať."
   ]
  },
  {
   "cell_type": "code",
   "execution_count": null,
   "metadata": {},
   "outputs": [],
   "source": [
    "def get_unsorted(length=100):\n",
    "    \"\"\"\n",
    "    Unsorted array of integers.\n",
    "    \n",
    "    Args:\n",
    "        length (int): Number of elements in the returned array. *Default: 100.*\n",
    "    \n",
    "    Returns:\n",
    "        list[int]: An array full of random integers ranging from -100 to 100 (100 not included).\n",
    "    \"\"\"\n",
    "    return [random.randrange(-100, 100) for i in range(length)]"
   ]
  },
  {
   "cell_type": "markdown",
   "metadata": {},
   "source": [
    "## Zoraďovanie polí\n",
    "\n",
    "- *Poľom* nazveme akúkoľvek reprezentáciu usporiadanej $n$-tice **rovnakého dátového typu**.\n",
    "    - Zoraďovací predpis, samozrejme, možno definovať i pre $n$-ticu zloženú z rôznych dátových typov. Pre názornosť ale takéto prípady vynecháme. Platia na ne rovnaké algoritmy ako na homogénne $n$-tice, teda polia v našom ponímaní.\n",
    "    - Pre jednoduchosť budeme pracovať s *reálnymi číslami*\n",
    "        - Prirodzene definované operátory `<`, `>`, `<=`, `>=`, `==`\n",
    "    \n",
    "- Cieľ: Usporiadať hodnoty v poli\n",
    "    - *Vzostupne*\n",
    "        - Zostupné usporiadanie je založené na rovnakom princípe, iba zmysel porovnaní bude opačný\n",
    "   \n",
    "--------\n",
    "### Bubble sort\n",
    "\n",
    "<img src=\"bubble_sort.gif\" width=800 />\n",
    "\n",
    "- Jeden beh:\n",
    "    - Okienko o dvoch susedných hodnotách $a$ a $b$\n",
    "    - Pokiaľ $a > b$, nastane zmena pozícií\n",
    "    - Posun okienka o jeden prvok vpravo\n",
    "    \n",
    "- Pri každom behu sa na správnu pozíciu dostane aspoň jedna hodnota.\n",
    "    - Pre $n$-prvkové pole teda treba $n - 1$ behov\n",
    "        - Pri každom z nich $n - 1$ porovnaní\n",
    "\n",
    "- Asymptotická zložitosť algoritmu $\\mathcal{O}(n^2)$\n",
    "- Schopnosť detekovať, že pole je už zoradené\n",
    "    - V najlepšom prípade (už zoradené pole) je zložitosť $\\mathcal{O}(n)$ (Prebehne iba 1 beh)"
   ]
  },
  {
   "cell_type": "code",
   "execution_count": null,
   "metadata": {},
   "outputs": [],
   "source": [
    "a = get_unsorted()\n",
    "        \n",
    "def bubble_sort(a):\n",
    "    # TODO\n",
    "\n",
    "%time bubble_sort(a)\n",
    "print(a)"
   ]
  },
  {
   "cell_type": "markdown",
   "metadata": {},
   "source": [
    "-----------\n",
    "\n",
    "### Insertion sort\n",
    "\n",
    "<img src=\"insertion_sort.gif\" width=800 />\n",
    "\n",
    "- Prvý prvok poľa je sám o sebe zoradeným poľom.\n",
    "- Zoberieme 2. prvok a zaradíme ho do poľa vľavo\n",
    "    - Tým získame dvojprvkové zoradené pole na začiatku celého poľa\n",
    "- Zoberieme 3. prvok a zaradíme ho do dvojprvkového zoradeného poľa\n",
    "    - Tým získame trojprvkové zoradené pole na začiatku celého poľa\n",
    "- ...a pokračujeme až po posledný prvok celkového poľa.\n",
    "\n",
    "\n",
    "- Prechádzame $n-1$ prvkov\n",
    "    - Pre prvý 1 porovnanie\n",
    "    - Pre druhý najviac 2 porovnania\n",
    "    - Pre tretí najviac 3 porovnania atď.\n",
    "- V najhoršom prípade teda celkovo $\\sum_{k=1}^{n-1}k$ porovnaní"
   ]
  },
  {
   "cell_type": "code",
   "execution_count": null,
   "metadata": {},
   "outputs": [],
   "source": [
    "from sympy import *"
   ]
  },
  {
   "cell_type": "code",
   "execution_count": null,
   "metadata": {},
   "outputs": [],
   "source": [
    "k, n = symbols('k n')\n",
    "Sum(k, (k, 1, n - 1)).doit()"
   ]
  },
  {
   "cell_type": "markdown",
   "metadata": {},
   "source": [
    "* Asymptotická zložitosť $\\mathcal{O}(n^2)$"
   ]
  },
  {
   "cell_type": "code",
   "execution_count": null,
   "metadata": {},
   "outputs": [],
   "source": [
    "a = get_unsorted()\n",
    "\n",
    "def insertion_sort(a):\n",
    "    # TODO\n",
    "        \n",
    "%time insertion_sort(a)\n",
    "print(a)"
   ]
  },
  {
   "cell_type": "markdown",
   "metadata": {},
   "source": [
    "-----------\n",
    "\n",
    "### Quicksort\n",
    "\n",
    "- Patrí do skupiny algoritmov typu *rozdeľ a panuj*.\n",
    "- Zaraďuje sa do triedy zložitosti $\\mathcal{O}(n\\log n)$\n",
    "- Využitie *rekurzie*\n",
    "\n",
    "> #### Rekurzia\n",
    ">\n",
    "> - Pokiaľ nie je splnená ukončovacia podmienka, funkcia **volá samú seba**."
   ]
  },
  {
   "cell_type": "code",
   "execution_count": null,
   "metadata": {},
   "outputs": [],
   "source": []
  },
  {
   "cell_type": "markdown",
   "metadata": {},
   "source": [
    "* Algoritmus quicksort:\n",
    "\n",
    "\n",
    "> * Vyber **pivot** (napr. prvý prvok poľa)\n",
    ">\n",
    "> * Prejdi celé pole a **preusporiadaj** ho tak, aby naľavo od pivota boli iba prvky **menšie než pivot** a napravo od neho iba prvky, ktoré sú **väčšie než pivot**.\n",
    ">\n",
    "> * **Zoraď pomocou *quicksort*** pole vľavo od pivota i pole vpravo od pivota."
   ]
  },
  {
   "cell_type": "code",
   "execution_count": null,
   "metadata": {},
   "outputs": [],
   "source": [
    "a = get_unsorted()\n",
    "\n",
    "def quick_sort(a):\n",
    "    # TODO    \n",
    "\n",
    "%time a = quick_sort(a)\n",
    "print(a)"
   ]
  },
  {
   "cell_type": "markdown",
   "metadata": {},
   "source": [
    "-----------\n",
    "### Bogosort"
   ]
  },
  {
   "cell_type": "code",
   "execution_count": null,
   "metadata": {},
   "outputs": [],
   "source": [
    "a = get_unsorted(5)\n",
    "\n",
    "def issorted(a):\n",
    "    # TODO\n",
    "\n",
    "def bogo_sort(a):\n",
    "    # TODO\n",
    "\n",
    "%time bogo_sort(a)\n",
    "\n",
    "print(a)"
   ]
  },
  {
   "cell_type": "markdown",
   "metadata": {},
   "source": [
    "------------\n",
    "* Zoraďovacích algoritmov existuje ešte omnoho viac $-$ viď napr. [Wikipedia](https://en.wikipedia.org/wiki/Sorting_algorithm)\n",
    "\n",
    "### Zabudované zoraďovacie funkcie Pythonu\n",
    "\n",
    "* `list.sort()` ([Dokumentácia](https://docs.python.org/3/library/stdtypes.html#list.sort))$~\\to ~$ Zoradenie zoznamu *na mieste*\n",
    "\n",
    "    * Parameter `reverse` (bool): `list.sort()` defaultne[<sup>1</sup>](#foot01) zoraďuje zoznam *vzostupne*. Pokiaľ je hodnota argumentu pre parameter `reverse` nastavená na  `True`, zmysel porovnávaní bude zmenený a pole bude zoradené v *zostupnom* zmysle (*default* `False`)\n",
    "    \n",
    "    * Parameter `key` (callable): Funkcia, ktorá transformuje hodnoty zoznamu na kľúče, ktoré majú vstúpovať do porovnávaní (*default* `None`)\n",
    "        * Príklad:"
   ]
  },
  {
   "cell_type": "code",
   "execution_count": null,
   "metadata": {},
   "outputs": [],
   "source": [
    "l = [7, 'foo', 'Whale', 'Foo', 'whale', '7', 'seven', [1, 2, 3]]\n",
    "# l.sort() # Error\n",
    "l.sort(key=str)\n",
    "print(l)\n",
    "\n",
    "l = [7, 'foo', 'Whale', 'Foo', 'whale', '7', 'seven', [1, 2, 3]]\n",
    "l.sort(key=lambda x: str(x).lower())\n",
    "print(l)"
   ]
  },
  {
   "cell_type": "markdown",
   "metadata": {},
   "source": [
    "* `sorted()` [Dokumentácia](https://docs.python.org/3/library/functions.html#sorted) $~\\to ~$ Vytvorenie zoradeného poľa z iterovateľného objektu, ktorý je jej povinným parametrom\n",
    "    * Parametre `key` a `reverse` majú rovnaký význam, ako v metóde `list.sort()`"
   ]
  },
  {
   "cell_type": "markdown",
   "metadata": {},
   "source": [
    "----------\n",
    "## Všeobecné úlohy\n",
    "\n",
    "1. Napíšte funkciu `my_find(a, b)`, ktorá v reťazci `a` hľadá reťazec `b` (nepoužívajte zabudovanú funkciu `str.find()`)\n",
    "    * Pokiaľ je reťazec nájdený, funkcia vráti index jeho prvého výskytu *zľava*.\n",
    "    * Pokiaľ reťazec nenájde, vráti -1.\n",
    "    * Efektívna implementácia: [Boyer-Moore-Horspool algoritmus](https://en.wikipedia.org/wiki/Boyer%E2%80%93Moore%E2%80%93Horspool_algorithm)."
   ]
  },
  {
   "cell_type": "code",
   "execution_count": null,
   "metadata": {},
   "outputs": [],
   "source": [
    "# The Python find(a, b) function:\n",
    "a = 'mechanotherapy'\n",
    "b = 'another'\n",
    "\n",
    "print(a.find(b))\n",
    "print(a.find('that'))"
   ]
  },
  {
   "cell_type": "code",
   "execution_count": null,
   "metadata": {},
   "outputs": [],
   "source": [
    "def my_find(a, b):\n",
    "    # TODO\n",
    "    \n",
    "a = 'mechanotherapy'\n",
    "b = 'another'\n",
    "\n",
    "print(my_find(a, b))\n",
    "print(my_find(a, 'that'))"
   ]
  },
  {
   "cell_type": "markdown",
   "metadata": {},
   "source": [
    "2. Napíšte funkciu `my_replace(a, b, c)`, ktorá v reťazci `a` nahradí všetky výskyty reťazca `b` reťazcom `c`. "
   ]
  },
  {
   "cell_type": "code",
   "execution_count": null,
   "metadata": {},
   "outputs": [],
   "source": [
    "# The Python str.replace(a, b) function:\n",
    "a = 'mechanotherapy'\n",
    "b = 'mechano'\n",
    "c = 'hydro'\n",
    "\n",
    "print(a.replace(b, c))"
   ]
  },
  {
   "cell_type": "code",
   "execution_count": null,
   "metadata": {},
   "outputs": [],
   "source": [
    "def my_replace(a, b, c):\n",
    "    # TODO\n",
    "    \n",
    "a = 'mechanotherapy mechanotherapy'\n",
    "b = 'mechano'\n",
    "c = 'hydro'\n",
    "\n",
    "print(my_replace(a, b, c))\n",
    "\n",
    "# a = 'mechanotherapy'\n",
    "# b = 'physio'\n",
    "# c = 'hydro'\n",
    "\n",
    "# print(my_replace(a, b, c))"
   ]
  },
  {
   "cell_type": "markdown",
   "metadata": {},
   "source": [
    "3. Napíšte program, ktorý načíta štandardný vstup a v načítanom reťazci zamení slovo `Hello` za slovo `Hi`. Pokiaľ sa vo vstupnom reťazci objaví slovo `End`, program skončí."
   ]
  },
  {
   "cell_type": "code",
   "execution_count": null,
   "metadata": {},
   "outputs": [],
   "source": []
  }
 ],
 "metadata": {
  "kernelspec": {
   "display_name": "Python 3",
   "language": "python",
   "name": "python3"
  },
  "language_info": {
   "codemirror_mode": {
    "name": "ipython",
    "version": 3
   },
   "file_extension": ".py",
   "mimetype": "text/x-python",
   "name": "python",
   "nbconvert_exporter": "python",
   "pygments_lexer": "ipython3",
   "version": "3.9.2"
  }
 },
 "nbformat": 4,
 "nbformat_minor": 4
}
